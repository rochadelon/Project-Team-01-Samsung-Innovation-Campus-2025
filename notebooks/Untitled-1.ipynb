{
 "cells": [
  {
   "cell_type": "code",
   "id": "5feedf40",
   "metadata": {
    "jupyter": {
     "is_executing": true
    }
   },
   "source": [
    "%run /workspaces/Project-Team-01-Samsung-Innovation-Campus-2025/requirements.py\n",
    "%run /workspaces/Project-Team-01-Samsung-Innovation-Campus-2025/import.py"
   ],
   "outputs": [],
   "execution_count": null
  },
  {
   "cell_type": "markdown",
   "id": "3a24da32",
   "metadata": {},
   "source": [
    "## ⭐ Dados da ouvidoria aneel disponíveis em 'df_ouvidoria_aneel'"
   ]
  },
  {
   "cell_type": "code",
   "id": "4320e2ba",
   "metadata": {
    "jupyter": {
     "is_executing": true
    }
   },
   "source": [
    "df_ouvidoria_aneel.dtypes"
   ],
   "outputs": [],
   "execution_count": null
  },
  {
   "cell_type": "code",
   "execution_count": null,
   "id": "653f9216",
   "metadata": {},
   "outputs": [],
   "source": [
    "df_ouvidoria_aneel['DatGeracaoConjuntoDados'].to_string()\n"
   ]
  },
  {
   "cell_type": "markdown",
   "id": "9e3b2e62",
   "metadata": {},
   "source": [
    "## - [x] Conversão de tipos "
   ]
  },
  {
   "cell_type": "code",
   "execution_count": null,
   "id": "e4f6d5c5",
   "metadata": {},
   "outputs": [
    {
     "ename": "DateParseError",
     "evalue": "Unknown datetime string format, unable to parse: DatGeracaoConjuntoDados, at position 0",
     "output_type": "error",
     "traceback": [
      "\u001B[31m---------------------------------------------------------------------------\u001B[39m",
      "\u001B[31mDateParseError\u001B[39m                            Traceback (most recent call last)",
      "\u001B[36mCell\u001B[39m\u001B[36m \u001B[39m\u001B[32mIn[14]\u001B[39m\u001B[32m, line 2\u001B[39m\n\u001B[32m      1\u001B[39m df_ouvidoria_aneel[\u001B[33m'\u001B[39m\u001B[33mDatGeracaoConjuntoDados\u001B[39m\u001B[33m'\u001B[39m].to_string()\n\u001B[32m----> \u001B[39m\u001B[32m2\u001B[39m df_ouvidoria_aneel[\u001B[33m'\u001B[39m\u001B[33mDatGeracaoConjuntoDados\u001B[39m\u001B[33m'\u001B[39m] = \u001B[43mpd\u001B[49m\u001B[43m.\u001B[49m\u001B[43mto_datetime\u001B[49m\u001B[43m(\u001B[49m\u001B[43m[\u001B[49m\u001B[33;43m'\u001B[39;49m\u001B[33;43mDatGeracaoConjuntoDados\u001B[39;49m\u001B[33;43m'\u001B[39;49m\u001B[43m]\u001B[49m\u001B[43m)\u001B[49m\n",
      "\u001B[36mFile \u001B[39m\u001B[32m~/.local/lib/python3.12/site-packages/pandas/core/tools/datetimes.py:1104\u001B[39m, in \u001B[36mto_datetime\u001B[39m\u001B[34m(arg, errors, dayfirst, yearfirst, utc, format, exact, unit, infer_datetime_format, origin, cache)\u001B[39m\n\u001B[32m   1102\u001B[39m         result = _convert_and_box_cache(argc, cache_array)\n\u001B[32m   1103\u001B[39m     \u001B[38;5;28;01melse\u001B[39;00m:\n\u001B[32m-> \u001B[39m\u001B[32m1104\u001B[39m         result = \u001B[43mconvert_listlike\u001B[49m\u001B[43m(\u001B[49m\u001B[43margc\u001B[49m\u001B[43m,\u001B[49m\u001B[43m \u001B[49m\u001B[38;5;28;43mformat\u001B[39;49m\u001B[43m)\u001B[49m\n\u001B[32m   1105\u001B[39m \u001B[38;5;28;01melse\u001B[39;00m:\n\u001B[32m   1106\u001B[39m     result = convert_listlike(np.array([arg]), \u001B[38;5;28mformat\u001B[39m)[\u001B[32m0\u001B[39m]\n",
      "\u001B[36mFile \u001B[39m\u001B[32m~/.local/lib/python3.12/site-packages/pandas/core/tools/datetimes.py:437\u001B[39m, in \u001B[36m_convert_listlike_datetimes\u001B[39m\u001B[34m(arg, format, name, utc, unit, errors, dayfirst, yearfirst, exact)\u001B[39m\n\u001B[32m    434\u001B[39m \u001B[38;5;28;01mif\u001B[39;00m \u001B[38;5;28mformat\u001B[39m \u001B[38;5;129;01mis\u001B[39;00m \u001B[38;5;129;01mnot\u001B[39;00m \u001B[38;5;28;01mNone\u001B[39;00m \u001B[38;5;129;01mand\u001B[39;00m \u001B[38;5;28mformat\u001B[39m != \u001B[33m\"\u001B[39m\u001B[33mmixed\u001B[39m\u001B[33m\"\u001B[39m:\n\u001B[32m    435\u001B[39m     \u001B[38;5;28;01mreturn\u001B[39;00m _array_strptime_with_fallback(arg, name, utc, \u001B[38;5;28mformat\u001B[39m, exact, errors)\n\u001B[32m--> \u001B[39m\u001B[32m437\u001B[39m result, tz_parsed = \u001B[43mobjects_to_datetime64\u001B[49m\u001B[43m(\u001B[49m\n\u001B[32m    438\u001B[39m \u001B[43m    \u001B[49m\u001B[43marg\u001B[49m\u001B[43m,\u001B[49m\n\u001B[32m    439\u001B[39m \u001B[43m    \u001B[49m\u001B[43mdayfirst\u001B[49m\u001B[43m=\u001B[49m\u001B[43mdayfirst\u001B[49m\u001B[43m,\u001B[49m\n\u001B[32m    440\u001B[39m \u001B[43m    \u001B[49m\u001B[43myearfirst\u001B[49m\u001B[43m=\u001B[49m\u001B[43myearfirst\u001B[49m\u001B[43m,\u001B[49m\n\u001B[32m    441\u001B[39m \u001B[43m    \u001B[49m\u001B[43mutc\u001B[49m\u001B[43m=\u001B[49m\u001B[43mutc\u001B[49m\u001B[43m,\u001B[49m\n\u001B[32m    442\u001B[39m \u001B[43m    \u001B[49m\u001B[43merrors\u001B[49m\u001B[43m=\u001B[49m\u001B[43merrors\u001B[49m\u001B[43m,\u001B[49m\n\u001B[32m    443\u001B[39m \u001B[43m    \u001B[49m\u001B[43mallow_object\u001B[49m\u001B[43m=\u001B[49m\u001B[38;5;28;43;01mTrue\u001B[39;49;00m\u001B[43m,\u001B[49m\n\u001B[32m    444\u001B[39m \u001B[43m\u001B[49m\u001B[43m)\u001B[49m\n\u001B[32m    446\u001B[39m \u001B[38;5;28;01mif\u001B[39;00m tz_parsed \u001B[38;5;129;01mis\u001B[39;00m \u001B[38;5;129;01mnot\u001B[39;00m \u001B[38;5;28;01mNone\u001B[39;00m:\n\u001B[32m    447\u001B[39m     \u001B[38;5;66;03m# We can take a shortcut since the datetime64 numpy array\u001B[39;00m\n\u001B[32m    448\u001B[39m     \u001B[38;5;66;03m# is in UTC\u001B[39;00m\n\u001B[32m    449\u001B[39m     out_unit = np.datetime_data(result.dtype)[\u001B[32m0\u001B[39m]\n",
      "\u001B[36mFile \u001B[39m\u001B[32m~/.local/lib/python3.12/site-packages/pandas/core/arrays/datetimes.py:2415\u001B[39m, in \u001B[36mobjects_to_datetime64\u001B[39m\u001B[34m(data, dayfirst, yearfirst, utc, errors, allow_object, out_unit)\u001B[39m\n\u001B[32m   2412\u001B[39m \u001B[38;5;66;03m# if str-dtype, convert\u001B[39;00m\n\u001B[32m   2413\u001B[39m data = np.asarray(data, dtype=np.object_)\n\u001B[32m-> \u001B[39m\u001B[32m2415\u001B[39m result, tz_parsed = \u001B[43mtslib\u001B[49m\u001B[43m.\u001B[49m\u001B[43marray_to_datetime\u001B[49m\u001B[43m(\u001B[49m\n\u001B[32m   2416\u001B[39m \u001B[43m    \u001B[49m\u001B[43mdata\u001B[49m\u001B[43m,\u001B[49m\n\u001B[32m   2417\u001B[39m \u001B[43m    \u001B[49m\u001B[43merrors\u001B[49m\u001B[43m=\u001B[49m\u001B[43merrors\u001B[49m\u001B[43m,\u001B[49m\n\u001B[32m   2418\u001B[39m \u001B[43m    \u001B[49m\u001B[43mutc\u001B[49m\u001B[43m=\u001B[49m\u001B[43mutc\u001B[49m\u001B[43m,\u001B[49m\n\u001B[32m   2419\u001B[39m \u001B[43m    \u001B[49m\u001B[43mdayfirst\u001B[49m\u001B[43m=\u001B[49m\u001B[43mdayfirst\u001B[49m\u001B[43m,\u001B[49m\n\u001B[32m   2420\u001B[39m \u001B[43m    \u001B[49m\u001B[43myearfirst\u001B[49m\u001B[43m=\u001B[49m\u001B[43myearfirst\u001B[49m\u001B[43m,\u001B[49m\n\u001B[32m   2421\u001B[39m \u001B[43m    \u001B[49m\u001B[43mcreso\u001B[49m\u001B[43m=\u001B[49m\u001B[43mabbrev_to_npy_unit\u001B[49m\u001B[43m(\u001B[49m\u001B[43mout_unit\u001B[49m\u001B[43m)\u001B[49m\u001B[43m,\u001B[49m\n\u001B[32m   2422\u001B[39m \u001B[43m\u001B[49m\u001B[43m)\u001B[49m\n\u001B[32m   2424\u001B[39m \u001B[38;5;28;01mif\u001B[39;00m tz_parsed \u001B[38;5;129;01mis\u001B[39;00m \u001B[38;5;129;01mnot\u001B[39;00m \u001B[38;5;28;01mNone\u001B[39;00m:\n\u001B[32m   2425\u001B[39m     \u001B[38;5;66;03m# We can take a shortcut since the datetime64 numpy array\u001B[39;00m\n\u001B[32m   2426\u001B[39m     \u001B[38;5;66;03m#  is in UTC\u001B[39;00m\n\u001B[32m   2427\u001B[39m     \u001B[38;5;28;01mreturn\u001B[39;00m result, tz_parsed\n",
      "\u001B[36mFile \u001B[39m\u001B[32mpandas/_libs/tslib.pyx:412\u001B[39m, in \u001B[36mpandas._libs.tslib.array_to_datetime\u001B[39m\u001B[34m()\u001B[39m\n",
      "\u001B[36mFile \u001B[39m\u001B[32mpandas/_libs/tslib.pyx:596\u001B[39m, in \u001B[36mpandas._libs.tslib.array_to_datetime\u001B[39m\u001B[34m()\u001B[39m\n",
      "\u001B[36mFile \u001B[39m\u001B[32mpandas/_libs/tslib.pyx:553\u001B[39m, in \u001B[36mpandas._libs.tslib.array_to_datetime\u001B[39m\u001B[34m()\u001B[39m\n",
      "\u001B[36mFile \u001B[39m\u001B[32mpandas/_libs/tslibs/conversion.pyx:641\u001B[39m, in \u001B[36mpandas._libs.tslibs.conversion.convert_str_to_tsobject\u001B[39m\u001B[34m()\u001B[39m\n",
      "\u001B[36mFile \u001B[39m\u001B[32mpandas/_libs/tslibs/parsing.pyx:336\u001B[39m, in \u001B[36mpandas._libs.tslibs.parsing.parse_datetime_string\u001B[39m\u001B[34m()\u001B[39m\n",
      "\u001B[36mFile \u001B[39m\u001B[32mpandas/_libs/tslibs/parsing.pyx:666\u001B[39m, in \u001B[36mpandas._libs.tslibs.parsing.dateutil_parse\u001B[39m\u001B[34m()\u001B[39m\n",
      "\u001B[31mDateParseError\u001B[39m: Unknown datetime string format, unable to parse: DatGeracaoConjuntoDados, at position 0"
     ]
    }
   ],
   "source": [
    "df_ouvidoria_aneel['DatGeracaoConjuntoDados'] = pd.to_datetime(['DatGeracaoConjuntoDados'])"
   ]
  },
  {
   "cell_type": "code",
   "execution_count": null,
   "id": "7f39313d",
   "metadata": {},
   "outputs": [],
   "source": []
  }
 ],
 "metadata": {
  "kernelspec": {
   "display_name": "Python 3",
   "language": "python",
   "name": "python3"
  },
  "language_info": {
   "codemirror_mode": {
    "name": "ipython",
    "version": 3
   },
   "file_extension": ".py",
   "mimetype": "text/x-python",
   "name": "python",
   "nbconvert_exporter": "python",
   "pygments_lexer": "ipython3",
   "version": "3.12.1"
  }
 },
 "nbformat": 4,
 "nbformat_minor": 5
}
