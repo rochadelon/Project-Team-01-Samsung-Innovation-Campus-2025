{
 "cells": [
  {
   "cell_type": "code",
   "execution_count": 5,
   "id": "5feedf40",
   "metadata": {
    "jupyter": {
     "is_executing": true
    }
   },
   "outputs": [],
   "source": [
    "%run /workspaces/Project-Team-01-Samsung-Innovation-Campus-2025/requirements.py\n",
    "%run /workspaces/Project-Team-01-Samsung-Innovation-Campus-2025/import.py"
   ]
  },
  {
   "cell_type": "markdown",
   "id": "3a24da32",
   "metadata": {},
   "source": [
    "## ⭐ Dados da ouvidoria aneel disponíveis em 'df_ouvidoria_aneel'"
   ]
  },
  {
   "cell_type": "code",
   "execution_count": 3,
   "id": "4320e2ba",
   "metadata": {
    "jupyter": {
     "is_executing": true
    }
   },
   "outputs": [
    {
     "data": {
      "application/vnd.microsoft.datawrangler.viewer.v0+json": {
       "columns": [
        {
         "name": "index",
         "rawType": "object",
         "type": "string"
        },
        {
         "name": "0",
         "rawType": "object",
         "type": "unknown"
        }
       ],
       "ref": "939c977d-3383-42d1-8edb-a9327757ec11",
       "rows": [
        [
         "DatGeracaoConjuntoDados",
         "object"
        ],
        [
         "SigAgente",
         "object"
        ],
        [
         "NumCPFCNPJAgente",
         "float64"
        ],
        [
         "SigUF",
         "object"
        ],
        [
         "CodigoMunicipio",
         "float64"
        ],
        [
         "NomMunicipio",
         "object"
        ],
        [
         "NomCategoria",
         "object"
        ],
        [
         "NomSubCategoria",
         "object"
        ],
        [
         "NomTipologia",
         "object"
        ],
        [
         "NomDecisao",
         "object"
        ],
        [
         "DscSituacao",
         "object"
        ],
        [
         "DtCriacao",
         "object"
        ],
        [
         "NumQtdReclamacoesDia",
         "float64"
        ],
        [
         "NomMunicipio,count,total_reclamacoes,media_reclamacoes,percentual",
         "object"
        ]
       ],
       "shape": {
        "columns": 1,
        "rows": 14
       }
      },
      "text/plain": [
       "DatGeracaoConjuntoDados                                               object\n",
       "SigAgente                                                             object\n",
       "NumCPFCNPJAgente                                                     float64\n",
       "SigUF                                                                 object\n",
       "CodigoMunicipio                                                      float64\n",
       "NomMunicipio                                                          object\n",
       "NomCategoria                                                          object\n",
       "NomSubCategoria                                                       object\n",
       "NomTipologia                                                          object\n",
       "NomDecisao                                                            object\n",
       "DscSituacao                                                           object\n",
       "DtCriacao                                                             object\n",
       "NumQtdReclamacoesDia                                                 float64\n",
       "NomMunicipio,count,total_reclamacoes,media_reclamacoes,percentual     object\n",
       "dtype: object"
      ]
     },
     "execution_count": 3,
     "metadata": {},
     "output_type": "execute_result"
    }
   ],
   "source": [
    "df_ouvidoria_aneel.dtypes"
   ]
  },
  {
   "cell_type": "code",
   "execution_count": 12,
   "id": "653f9216",
   "metadata": {},
   "outputs": [],
   "source": [
    "df_ouvidoria_aneel['DatGeracaoConjuntoDados'] = pd.to_datetime(df_ouvidoria_aneel['DatGeracaoConjuntoDados'], format='%Y-%m-%d %H:%M:%S', errors='coerce')\n",
    "df_ouvidoria_aneel['DtCriacao'] = pd.to_datetime(df_ouvidoria_aneel['DtCriacao'], format='%Y-%m-%d %H:%M:%S', errors='coerce')"
   ]
  },
  {
   "cell_type": "code",
   "execution_count": 14,
   "id": "aadc823e",
   "metadata": {},
   "outputs": [],
   "source": [
    "for col in df_ouvidoria_aneel.select_dtypes(include=['object']).columns:\n",
    "    df_ouvidoria_aneel[col] = df_ouvidoria_aneel[col].astype('category')\n"
   ]
  },
  {
   "cell_type": "markdown",
   "id": "9e3b2e62",
   "metadata": {},
   "source": [
    "## - [x] Conversão de tipos "
   ]
  },
  {
   "cell_type": "code",
   "execution_count": 15,
   "id": "e4f6d5c5",
   "metadata": {},
   "outputs": [
    {
     "data": {
      "application/vnd.microsoft.datawrangler.viewer.v0+json": {
       "columns": [
        {
         "name": "index",
         "rawType": "object",
         "type": "string"
        },
        {
         "name": "0",
         "rawType": "object",
         "type": "unknown"
        }
       ],
       "ref": "44178ef4-edb8-48f6-a95d-4dd95e286b78",
       "rows": [
        [
         "DatGeracaoConjuntoDados",
         "datetime64[ns]"
        ],
        [
         "SigAgente",
         "category"
        ],
        [
         "NumCPFCNPJAgente",
         "float64"
        ],
        [
         "SigUF",
         "category"
        ],
        [
         "CodigoMunicipio",
         "float64"
        ],
        [
         "NomMunicipio",
         "category"
        ],
        [
         "NomCategoria",
         "category"
        ],
        [
         "NomSubCategoria",
         "category"
        ],
        [
         "NomTipologia",
         "category"
        ],
        [
         "NomDecisao",
         "category"
        ],
        [
         "DscSituacao",
         "category"
        ],
        [
         "DtCriacao",
         "datetime64[ns]"
        ],
        [
         "NumQtdReclamacoesDia",
         "float64"
        ],
        [
         "NomMunicipio,count,total_reclamacoes,media_reclamacoes,percentual",
         "category"
        ]
       ],
       "shape": {
        "columns": 1,
        "rows": 14
       }
      },
      "text/plain": [
       "DatGeracaoConjuntoDados                                              datetime64[ns]\n",
       "SigAgente                                                                  category\n",
       "NumCPFCNPJAgente                                                            float64\n",
       "SigUF                                                                      category\n",
       "CodigoMunicipio                                                             float64\n",
       "NomMunicipio                                                               category\n",
       "NomCategoria                                                               category\n",
       "NomSubCategoria                                                            category\n",
       "NomTipologia                                                               category\n",
       "NomDecisao                                                                 category\n",
       "DscSituacao                                                                category\n",
       "DtCriacao                                                            datetime64[ns]\n",
       "NumQtdReclamacoesDia                                                        float64\n",
       "NomMunicipio,count,total_reclamacoes,media_reclamacoes,percentual          category\n",
       "dtype: object"
      ]
     },
     "execution_count": 15,
     "metadata": {},
     "output_type": "execute_result"
    }
   ],
   "source": [
    "df_ouvidoria_aneel.dtypes"
   ]
  },
  {
   "cell_type": "code",
   "execution_count": null,
   "id": "7f39313d",
   "metadata": {},
   "outputs": [],
   "source": []
  }
 ],
 "metadata": {
  "kernelspec": {
   "display_name": "Python 3",
   "language": "python",
   "name": "python3"
  },
  "language_info": {
   "codemirror_mode": {
    "name": "ipython",
    "version": 3
   },
   "file_extension": ".py",
   "mimetype": "text/x-python",
   "name": "python",
   "nbconvert_exporter": "python",
   "pygments_lexer": "ipython3",
   "version": "3.12.1"
  }
 },
 "nbformat": 4,
 "nbformat_minor": 5
}
