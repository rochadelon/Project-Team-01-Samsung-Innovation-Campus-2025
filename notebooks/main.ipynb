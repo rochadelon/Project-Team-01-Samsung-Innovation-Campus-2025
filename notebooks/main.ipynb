{
    "cells": [
        {
            "cell_type": "code",
            "execution_count": 15,
            "metadata": {
                "cell_id": "156c141ec1aa42d49d591e748aba130b",
                "deepnote_cell_type": "code",
                "execution_context_id": "241191bb-c4a2-4e51-adc0-d98eeb87d43f",
                "execution_millis": 947,
                "execution_start": 1758859410867,
                "source_hash": "bfc0fe12"
            },
            "outputs": [],
            "source": [
                "import urllib\n",
                "import pandas as pd #dataframes\n",
                "import seaborn as sns #gráficos\n",
                "import matplotlib.pyplot as plt\n",
                "import glob #localizar arquivos"
            ]
        },
        {
            "cell_type": "markdown",
            "metadata": {},
            "source": [
                "## Carregamento"
            ]
        },
        {
            "cell_type": "code",
            "execution_count": 16,
            "metadata": {
                "cell_id": "7a2fa884f00e48b0b0772e4436513a4d",
                "deepnote_cell_type": "code",
                "execution_context_id": "241191bb-c4a2-4e51-adc0-d98eeb87d43f",
                "execution_millis": 2914,
                "execution_start": 1758859411877,
                "source_hash": "61ff4c66"
            },
            "outputs": [],
            "source": [
                "import glob\n",
                "\n",
                "extension = 'csv'\n",
                "# Caminho correto com a pasta e a extensão\n",
                "all_filenames = glob.glob('/workspaces/Project-Team-01-Samsung-Innovation-Campus-2025/data/*.{}'.format(extension))\n"
            ]
        },
        {
            "cell_type": "code",
            "execution_count": 17,
            "metadata": {
                "cell_id": "527b8f67f6d64532a7b67cc3e2e3d465",
                "deepnote_cell_type": "code",
                "execution_context_id": "241191bb-c4a2-4e51-adc0-d98eeb87d43f",
                "execution_millis": 18591,
                "execution_start": 1758859414857,
                "source_hash": "41d422f7"
            },
            "outputs": [],
            "source": [
                "df_ouvidoria_aneel = pd.concat([\n",
                "    pd.read_csv(f, encoding='latin1', sep=';', on_bad_lines='skip') \n",
                "    for f in all_filenames\n",
                "])\n"
            ]
        },
        {
            "cell_type": "markdown",
            "metadata": {},
            "source": [
                "# Visão Geral dos Dados"
            ]
        },
        {
            "cell_type": "markdown",
            "metadata": {},
            "source": [
                "## Estados "
            ]
        },
        {
            "cell_type": "code",
            "execution_count": 8,
            "metadata": {
                "cell_id": "c060fd190c0d44dfb6b7f40ae5c613c8",
                "deepnote_cell_type": "code",
                "execution_context_id": "241191bb-c4a2-4e51-adc0-d98eeb87d43f",
                "execution_millis": 3,
                "execution_start": 1758859433599,
                "source_hash": "7cbae1fb"
            },
            "outputs": [
                {
                    "data": {
                        "text/plain": [
                            "(array(['RO', 'SP', 'MA', 'PR', 'MG', 'AC', 'RS', 'MT', 'AM', 'AP', 'SC',\n",
                            "        'BA', 'RR', 'PB', 'CE', 'PA', 'AL', 'PE', 'TO', 'MS', 'RN', 'RJ',\n",
                            "        'PI', 'ES', 'GO', 'DF', 'SE', nan], dtype=object),\n",
                            " 28)"
                        ]
                    },
                    "execution_count": 8,
                    "metadata": {},
                    "output_type": "execute_result"
                }
            ],
            "source": [
                "df_ouvidoria_aneel['SigUF'].unique(), len(df_ouvidoria_aneel['SigUF'].unique())"
            ]
        },
        {
            "cell_type": "markdown",
            "metadata": {},
            "source": [
                "## Categoria Geral"
            ]
        },
        {
            "cell_type": "code",
            "execution_count": 63,
            "metadata": {
                "cell_id": "73ebcae353b448f5a2919b2fc8a0af05",
                "deepnote_cell_type": "code",
                "execution_context_id": "241191bb-c4a2-4e51-adc0-d98eeb87d43f",
                "execution_millis": 72,
                "execution_start": 1758859433707,
                "source_hash": "569bc8fc"
            },
            "outputs": [
                {
                    "data": {
                        "text/plain": [
                            "array(['Informação', 'Reclamações', 'Denúncias', 'Sugestão/Crítica',\n",
                            "       'Elogio', nan], dtype=object)"
                        ]
                    },
                    "execution_count": 63,
                    "metadata": {},
                    "output_type": "execute_result"
                }
            ],
            "source": [
                "categorias = df_ouvidoria_aneel['NomCategoria'].unique()\n",
                "len(df_ouvidoria_aneel['NomCategoria'].unique())\n",
                "categorias"
            ]
        },
        {
            "cell_type": "markdown",
            "metadata": {},
            "source": [
                "## Subcategoria"
            ]
        },
        {
            "cell_type": "code",
            "execution_count": 55,
            "metadata": {
                "cell_id": "5de8d9f6bdcf458e8965116f57478c5c",
                "deepnote_cell_type": "code",
                "execution_context_id": "241191bb-c4a2-4e51-adc0-d98eeb87d43f",
                "execution_millis": 0,
                "execution_start": 1758859433980,
                "source_hash": "5c10ab6f"
            },
            "outputs": [
                {
                    "data": {
                        "text/plain": [
                            "(array(['Qualidade do Fornecimento', 'Cobranças', 'Faturamento',\n",
                            "        'Serviços Técnicos', 'Serviços Comerciais', 'Outros',\n",
                            "        'Atendimento', 'Denúncias', 'Sugestão/Crítica', 'Elogio', nan],\n",
                            "       dtype=object),\n",
                            " 11)"
                        ]
                    },
                    "execution_count": 55,
                    "metadata": {},
                    "output_type": "execute_result"
                }
            ],
            "source": [
                "sub_categoria = df_ouvidoria_aneel['NomSubCategoria'].unique(), len(df_ouvidoria_aneel['NomSubCategoria'].unique())\n",
                "sub_categoria"
            ]
        },
        {
            "cell_type": "markdown",
            "metadata": {},
            "source": [
                "## Tipologia"
            ]
        },
        {
            "cell_type": "code",
            "execution_count": 54,
            "metadata": {
                "cell_id": "396c772301d44e06b3510e5d4b55e1f3",
                "deepnote_cell_type": "code",
                "execution_context_id": "241191bb-c4a2-4e51-adc0-d98eeb87d43f",
                "execution_millis": 86,
                "execution_start": 1758859434100,
                "source_hash": "145c7dee"
            },
            "outputs": [
                {
                    "data": {
                        "text/plain": [
                            "(array(['Oscilação de Tensão', 'Devol Valores', 'Variação de Consumo',\n",
                            "        'Devol Antecipação Obras', 'Interrup Frequentes',\n",
                            "        'Alteração de carga', 'Falta de Energia', 'Ligação',\n",
                            "        'Suspensão Indevida', 'Fatur Microgeração', 'ANEEL',\n",
                            "        'Cobrança Irregularidades', 'Procedimentos p/ denúncias',\n",
                            "        'Relocação Poste/Rede', 'Participacão Financeira',\n",
                            "        'Conexão Microgeração', 'Atend Presencial', 'Aferição Medidor',\n",
                            "        'Religação', 'Ressarcimento de Danos', 'Cobrança Indevida',\n",
                            "        'Nenhuma das Anteriores', 'Extensão de Rede',\n",
                            "        'Subst Equipamento Rede', 'Class UC', 'Entrega da Fatura',\n",
                            "        'Deslig a Pedido', 'LAI', 'Fatur por Média', 'Poda de Árvore',\n",
                            "        'Poste em Mau Estado', 'Ativ Acessórias', 'Atend Telefônico',\n",
                            "        'Débitos Anteriores', '2ª Via Fatura', 'Dados do Setor Elétrico',\n",
                            "        'Contra a ANEEL', 'Iluminação Pública', 'Atend Digital',\n",
                            "        'Parcelamento', 'Alteração Cadastral', 'Cobranças Diversas',\n",
                            "        'Fiscalização', 'Impostos (ICMS/ISS)', 'Vistoria UC', 'Juros',\n",
                            "        'Bandeiras Tarifárias', 'Valores Mínimos', 'Sugestão/Crítica',\n",
                            "        'Interrup Programada', 'Alteração Data Fatura',\n",
                            "        'Dificuldade Pagamento', 'Tarifas de Energia',\n",
                            "        'Legis Setor Elétrico', 'Aten Agência Estadual',\n",
                            "        'Defeito/Danos Medidor', 'Class UC Baixa Renda',\n",
                            "        'Migração ML \\x96 Descumprimento de prazos',\n",
                            "        'Entrega Aviso/Reaviso', 'Elogio', 'Ligação Clandestina',\n",
                            "        'Contra Concessionárias', 'Multa/Auto Religação',\n",
                            "        'Migração ML \\x96 Exigências indevida documentação',\n",
                            "        'Cont Iluminação Pública', 'Fraude/Desvio de Energia',\n",
                            "        'Migração ML \\x96 Dificuldade contato/acesso CCER/CUSD',\n",
                            "        'Inf teleatendANEEL', 'Ver Nível de Tensão', 'Câmara ComerEnergia',\n",
                            "        'Danos Ambientais', 'Tarifa Branca', 'Coop Eletrificação Rural',\n",
                            "        'ONS', 'Meio Ambiente', 'Hidrologia',\n",
                            "        'Coleta, uso e partilha indevido dados (LGPD)', 'Atend ANEEL',\n",
                            "        'Pesquisas, Estudos, Inventários e Projetos Básicos',\n",
                            "        'Efi Energética/Racionar Consumo', 'Consultas sobre Concessão',\n",
                            "        'Audiência/Consulta Pública', 'Conselho de Consumidores',\n",
                            "        'Furtos fiações elétricas', 'Horário de Verão',\n",
                            "        'Abuso de Poder de Mercado, concorrência desleal',\n",
                            "        'Serviços Comerciais', 'Aneel', 'Bônus redução consumo', nan,\n",
                            "        'Faturamento', 'Cobrança', 'Atend ao Consumidor',\n",
                            "        'Contra Agências Estaduais', 'Qualidade do Fornecimento',\n",
                            "        'Serviços Técnicos'], dtype=object),\n",
                            " 96)"
                        ]
                    },
                    "execution_count": 54,
                    "metadata": {},
                    "output_type": "execute_result"
                }
            ],
            "source": [
                "tipologias_arr = df_ouvidoria_aneel['NomTipologia'].unique(), len(df_ouvidoria_aneel['NomTipologia'].unique())\n",
                "tipologias_arr"
            ]
        },
        {
            "cell_type": "markdown",
            "metadata": {},
            "source": [
                "## Exploração"
            ]
        },
        {
            "cell_type": "code",
            "execution_count": 28,
            "metadata": {},
            "outputs": [
                {
                    "name": "stdout",
                    "output_type": "stream",
                    "text": [
                        "['datgeracaoconjuntodados', 'sigagente', 'numcpfcnpjagente', 'siguf', 'codigomunicipio', 'nommunicipio', 'nomcategoria', 'nomsubcategoria', 'nomtipologia', 'nomdecisao', 'dscsituacao', 'dtcriacao', 'numqtdreclamacoesdia']\n",
                        "<class 'pandas.core.frame.DataFrame'>\n",
                        "Index: 4800037 entries, 0 to 539864\n",
                        "Data columns (total 13 columns):\n",
                        " #   Column                   Dtype  \n",
                        "---  ------                   -----  \n",
                        " 0   DatGeracaoConjuntoDados  object \n",
                        " 1   SigAgente                object \n",
                        " 2   NumCPFCNPJAgente         int64  \n",
                        " 3   SigUF                    object \n",
                        " 4   CodigoMunicipio          float64\n",
                        " 5   NomMunicipio             object \n",
                        " 6   NomCategoria             object \n",
                        " 7   NomSubCategoria          object \n",
                        " 8   NomTipologia             object \n",
                        " 9   NomDecisao               object \n",
                        " 10  DscSituacao              object \n",
                        " 11  DtCriacao                object \n",
                        " 12  NumQtdReclamacoesDia     int64  \n",
                        "dtypes: float64(1), int64(2), object(10)\n",
                        "memory usage: 512.7+ MB\n"
                    ]
                }
            ],
            "source": [
                "df_ouvidoria_aneel = pd.concat([\n",
                "    pd.read_csv(f, encoding='latin1', sep=';', on_bad_lines='skip') \n",
                "    for f in all_filenames\n",
                "])\n",
                "\n",
                "df_ouvidoria = df_ouvidoria_aneel.columns.str.lower().str.replace(' ', '_').tolist()\n",
                "print(df_ouvidoria)\n",
                "df_ouvidoria_aneel.info()"
            ]
        },
        {
            "cell_type": "markdown",
            "metadata": {},
            "source": [
                "## "
            ]
        },
        {
            "cell_type": "code",
            "execution_count": 74,
            "metadata": {},
            "outputs": [
                {
                    "data": {
                        "application/vnd.microsoft.datawrangler.viewer.v0+json": {
                            "columns": [
                                {
                                    "name": "index",
                                    "rawType": "object",
                                    "type": "string"
                                },
                                {
                                    "name": "0",
                                    "rawType": "int64",
                                    "type": "integer"
                                }
                            ],
                            "ref": "862250d5-f1df-4531-b5ef-e79ba1b14570",
                            "rows": [
                                [
                                    "NomMunicipio",
                                    "151"
                                ],
                                [
                                    "CodigoMunicipio",
                                    "70"
                                ],
                                [
                                    "SigUF",
                                    "10"
                                ],
                                [
                                    "NomCategoria",
                                    "8"
                                ],
                                [
                                    "NomTipologia",
                                    "8"
                                ],
                                [
                                    "NomSubCategoria",
                                    "6"
                                ],
                                [
                                    "SigAgente",
                                    "0"
                                ],
                                [
                                    "DatGeracaoConjuntoDados",
                                    "0"
                                ],
                                [
                                    "NumCPFCNPJAgente",
                                    "0"
                                ],
                                [
                                    "NomDecisao",
                                    "0"
                                ],
                                [
                                    "DscSituacao",
                                    "0"
                                ],
                                [
                                    "DtCriacao",
                                    "0"
                                ],
                                [
                                    "NumQtdReclamacoesDia",
                                    "0"
                                ]
                            ],
                            "shape": {
                                "columns": 1,
                                "rows": 13
                            }
                        },
                        "text/plain": [
                            "NomMunicipio               151\n",
                            "CodigoMunicipio             70\n",
                            "SigUF                       10\n",
                            "NomCategoria                 8\n",
                            "NomTipologia                 8\n",
                            "NomSubCategoria              6\n",
                            "SigAgente                    0\n",
                            "DatGeracaoConjuntoDados      0\n",
                            "NumCPFCNPJAgente             0\n",
                            "NomDecisao                   0\n",
                            "DscSituacao                  0\n",
                            "DtCriacao                    0\n",
                            "NumQtdReclamacoesDia         0\n",
                            "dtype: int64"
                        ]
                    },
                    "execution_count": 74,
                    "metadata": {},
                    "output_type": "execute_result"
                }
            ],
            "source": [
                "df_ouvidoria_aneel.isnull().sum().sort_values(ascending=False)\n"
            ]
        },
        {
            "cell_type": "code",
            "execution_count": null,
            "metadata": {},
            "outputs": [
                {
                    "data": {
                        "application/vnd.microsoft.datawrangler.viewer.v0+json": {
                            "columns": [
                                {
                                    "name": "index",
                                    "rawType": "object",
                                    "type": "string"
                                },
                                {
                                    "name": "count",
                                    "rawType": "object",
                                    "type": "unknown"
                                },
                                {
                                    "name": "unique",
                                    "rawType": "object",
                                    "type": "unknown"
                                },
                                {
                                    "name": "top",
                                    "rawType": "object",
                                    "type": "unknown"
                                },
                                {
                                    "name": "freq",
                                    "rawType": "object",
                                    "type": "unknown"
                                },
                                {
                                    "name": "mean",
                                    "rawType": "object",
                                    "type": "unknown"
                                },
                                {
                                    "name": "std",
                                    "rawType": "object",
                                    "type": "unknown"
                                },
                                {
                                    "name": "min",
                                    "rawType": "object",
                                    "type": "unknown"
                                },
                                {
                                    "name": "25%",
                                    "rawType": "object",
                                    "type": "unknown"
                                },
                                {
                                    "name": "50%",
                                    "rawType": "object",
                                    "type": "unknown"
                                },
                                {
                                    "name": "75%",
                                    "rawType": "object",
                                    "type": "unknown"
                                },
                                {
                                    "name": "max",
                                    "rawType": "object",
                                    "type": "unknown"
                                }
                            ],
                            "ref": "ea4e58bf-f9d3-482e-b82e-281c52f2e92f",
                            "rows": [
                                [
                                    "DatGeracaoConjuntoDados",
                                    "4800037",
                                    "4",
                                    "2023-01-30",
                                    "2996102",
                                    null,
                                    null,
                                    null,
                                    null,
                                    null,
                                    null,
                                    null
                                ],
                                [
                                    "SigAgente",
                                    "4800037",
                                    "118",
                                    "Cemig",
                                    "329878",
                                    null,
                                    null,
                                    null,
                                    null,
                                    null,
                                    null,
                                    null
                                ],
                                [
                                    "NumCPFCNPJAgente",
                                    "4800037.0",
                                    null,
                                    null,
                                    null,
                                    "16760770544378.656",
                                    "18872330433653.566",
                                    "1377555000110.0",
                                    "4895728000180.0",
                                    "8324196000181.0",
                                    "15413826000150.0",
                                    "97578090000134.0"
                                ],
                                [
                                    "SigUF",
                                    "4800027",
                                    "27",
                                    "SP",
                                    "1006272",
                                    null,
                                    null,
                                    null,
                                    null,
                                    null,
                                    null,
                                    null
                                ],
                                [
                                    "CodigoMunicipio",
                                    "4799967.0",
                                    null,
                                    null,
                                    null,
                                    "3338718.061153337",
                                    "967376.2567346346",
                                    "344.0",
                                    "2611606.0",
                                    "3303203.0",
                                    "3552205.0",
                                    "5300108.0"
                                ],
                                [
                                    "NomMunicipio",
                                    "4799886",
                                    "10818",
                                    "São Paulo",
                                    "124268",
                                    null,
                                    null,
                                    null,
                                    null,
                                    null,
                                    null,
                                    null
                                ],
                                [
                                    "NomCategoria",
                                    "4800029",
                                    "5",
                                    "Informação",
                                    "3451610",
                                    null,
                                    null,
                                    null,
                                    null,
                                    null,
                                    null,
                                    null
                                ],
                                [
                                    "NomSubCategoria",
                                    "4800031",
                                    "10",
                                    "Qualidade do Fornecimento",
                                    "1464499",
                                    null,
                                    null,
                                    null,
                                    null,
                                    null,
                                    null,
                                    null
                                ],
                                [
                                    "NomTipologia",
                                    "4800029",
                                    "95",
                                    "Falta de Energia",
                                    "1071156",
                                    null,
                                    null,
                                    null,
                                    null,
                                    null,
                                    null,
                                    null
                                ],
                                [
                                    "NomDecisao",
                                    "4800037",
                                    "3",
                                    "Sem decisão",
                                    "4268486",
                                    null,
                                    null,
                                    null,
                                    null,
                                    null,
                                    null,
                                    null
                                ],
                                [
                                    "DscSituacao",
                                    "4800037",
                                    "16",
                                    "Finalizada por Script",
                                    "3313522",
                                    null,
                                    null,
                                    null,
                                    null,
                                    null,
                                    null,
                                    null
                                ],
                                [
                                    "DtCriacao",
                                    "4800037",
                                    "3539",
                                    "2015-12-07",
                                    "3025",
                                    null,
                                    null,
                                    null,
                                    null,
                                    null,
                                    null,
                                    null
                                ],
                                [
                                    "NumQtdReclamacoesDia",
                                    "4800037.0",
                                    null,
                                    null,
                                    null,
                                    "1.657083059984746",
                                    "4.950755741057181",
                                    "1.0",
                                    "1.0",
                                    "1.0",
                                    "1.0",
                                    "1435.0"
                                ]
                            ],
                            "shape": {
                                "columns": 11,
                                "rows": 13
                            }
                        },
                        "text/html": [
                            "<div>\n",
                            "<style scoped>\n",
                            "    .dataframe tbody tr th:only-of-type {\n",
                            "        vertical-align: middle;\n",
                            "    }\n",
                            "\n",
                            "    .dataframe tbody tr th {\n",
                            "        vertical-align: top;\n",
                            "    }\n",
                            "\n",
                            "    .dataframe thead th {\n",
                            "        text-align: right;\n",
                            "    }\n",
                            "</style>\n",
                            "<table border=\"1\" class=\"dataframe\">\n",
                            "  <thead>\n",
                            "    <tr style=\"text-align: right;\">\n",
                            "      <th></th>\n",
                            "      <th>count</th>\n",
                            "      <th>unique</th>\n",
                            "      <th>top</th>\n",
                            "      <th>freq</th>\n",
                            "      <th>mean</th>\n",
                            "      <th>std</th>\n",
                            "      <th>min</th>\n",
                            "      <th>25%</th>\n",
                            "      <th>50%</th>\n",
                            "      <th>75%</th>\n",
                            "      <th>max</th>\n",
                            "    </tr>\n",
                            "  </thead>\n",
                            "  <tbody>\n",
                            "    <tr>\n",
                            "      <th>DatGeracaoConjuntoDados</th>\n",
                            "      <td>4800037</td>\n",
                            "      <td>4</td>\n",
                            "      <td>2023-01-30</td>\n",
                            "      <td>2996102</td>\n",
                            "      <td>NaN</td>\n",
                            "      <td>NaN</td>\n",
                            "      <td>NaN</td>\n",
                            "      <td>NaN</td>\n",
                            "      <td>NaN</td>\n",
                            "      <td>NaN</td>\n",
                            "      <td>NaN</td>\n",
                            "    </tr>\n",
                            "    <tr>\n",
                            "      <th>SigAgente</th>\n",
                            "      <td>4800037</td>\n",
                            "      <td>118</td>\n",
                            "      <td>Cemig</td>\n",
                            "      <td>329878</td>\n",
                            "      <td>NaN</td>\n",
                            "      <td>NaN</td>\n",
                            "      <td>NaN</td>\n",
                            "      <td>NaN</td>\n",
                            "      <td>NaN</td>\n",
                            "      <td>NaN</td>\n",
                            "      <td>NaN</td>\n",
                            "    </tr>\n",
                            "    <tr>\n",
                            "      <th>NumCPFCNPJAgente</th>\n",
                            "      <td>4800037.0</td>\n",
                            "      <td>NaN</td>\n",
                            "      <td>NaN</td>\n",
                            "      <td>NaN</td>\n",
                            "      <td>16760770544378.65625</td>\n",
                            "      <td>18872330433653.566406</td>\n",
                            "      <td>1377555000110.0</td>\n",
                            "      <td>4895728000180.0</td>\n",
                            "      <td>8324196000181.0</td>\n",
                            "      <td>15413826000150.0</td>\n",
                            "      <td>97578090000134.0</td>\n",
                            "    </tr>\n",
                            "    <tr>\n",
                            "      <th>SigUF</th>\n",
                            "      <td>4800027</td>\n",
                            "      <td>27</td>\n",
                            "      <td>SP</td>\n",
                            "      <td>1006272</td>\n",
                            "      <td>NaN</td>\n",
                            "      <td>NaN</td>\n",
                            "      <td>NaN</td>\n",
                            "      <td>NaN</td>\n",
                            "      <td>NaN</td>\n",
                            "      <td>NaN</td>\n",
                            "      <td>NaN</td>\n",
                            "    </tr>\n",
                            "    <tr>\n",
                            "      <th>CodigoMunicipio</th>\n",
                            "      <td>4799967.0</td>\n",
                            "      <td>NaN</td>\n",
                            "      <td>NaN</td>\n",
                            "      <td>NaN</td>\n",
                            "      <td>3338718.061153</td>\n",
                            "      <td>967376.256735</td>\n",
                            "      <td>344.0</td>\n",
                            "      <td>2611606.0</td>\n",
                            "      <td>3303203.0</td>\n",
                            "      <td>3552205.0</td>\n",
                            "      <td>5300108.0</td>\n",
                            "    </tr>\n",
                            "    <tr>\n",
                            "      <th>NomMunicipio</th>\n",
                            "      <td>4799886</td>\n",
                            "      <td>10818</td>\n",
                            "      <td>São Paulo</td>\n",
                            "      <td>124268</td>\n",
                            "      <td>NaN</td>\n",
                            "      <td>NaN</td>\n",
                            "      <td>NaN</td>\n",
                            "      <td>NaN</td>\n",
                            "      <td>NaN</td>\n",
                            "      <td>NaN</td>\n",
                            "      <td>NaN</td>\n",
                            "    </tr>\n",
                            "    <tr>\n",
                            "      <th>NomCategoria</th>\n",
                            "      <td>4800029</td>\n",
                            "      <td>5</td>\n",
                            "      <td>Informação</td>\n",
                            "      <td>3451610</td>\n",
                            "      <td>NaN</td>\n",
                            "      <td>NaN</td>\n",
                            "      <td>NaN</td>\n",
                            "      <td>NaN</td>\n",
                            "      <td>NaN</td>\n",
                            "      <td>NaN</td>\n",
                            "      <td>NaN</td>\n",
                            "    </tr>\n",
                            "    <tr>\n",
                            "      <th>NomSubCategoria</th>\n",
                            "      <td>4800031</td>\n",
                            "      <td>10</td>\n",
                            "      <td>Qualidade do Fornecimento</td>\n",
                            "      <td>1464499</td>\n",
                            "      <td>NaN</td>\n",
                            "      <td>NaN</td>\n",
                            "      <td>NaN</td>\n",
                            "      <td>NaN</td>\n",
                            "      <td>NaN</td>\n",
                            "      <td>NaN</td>\n",
                            "      <td>NaN</td>\n",
                            "    </tr>\n",
                            "    <tr>\n",
                            "      <th>NomTipologia</th>\n",
                            "      <td>4800029</td>\n",
                            "      <td>95</td>\n",
                            "      <td>Falta de Energia</td>\n",
                            "      <td>1071156</td>\n",
                            "      <td>NaN</td>\n",
                            "      <td>NaN</td>\n",
                            "      <td>NaN</td>\n",
                            "      <td>NaN</td>\n",
                            "      <td>NaN</td>\n",
                            "      <td>NaN</td>\n",
                            "      <td>NaN</td>\n",
                            "    </tr>\n",
                            "    <tr>\n",
                            "      <th>NomDecisao</th>\n",
                            "      <td>4800037</td>\n",
                            "      <td>3</td>\n",
                            "      <td>Sem decisão</td>\n",
                            "      <td>4268486</td>\n",
                            "      <td>NaN</td>\n",
                            "      <td>NaN</td>\n",
                            "      <td>NaN</td>\n",
                            "      <td>NaN</td>\n",
                            "      <td>NaN</td>\n",
                            "      <td>NaN</td>\n",
                            "      <td>NaN</td>\n",
                            "    </tr>\n",
                            "    <tr>\n",
                            "      <th>DscSituacao</th>\n",
                            "      <td>4800037</td>\n",
                            "      <td>16</td>\n",
                            "      <td>Finalizada por Script</td>\n",
                            "      <td>3313522</td>\n",
                            "      <td>NaN</td>\n",
                            "      <td>NaN</td>\n",
                            "      <td>NaN</td>\n",
                            "      <td>NaN</td>\n",
                            "      <td>NaN</td>\n",
                            "      <td>NaN</td>\n",
                            "      <td>NaN</td>\n",
                            "    </tr>\n",
                            "    <tr>\n",
                            "      <th>DtCriacao</th>\n",
                            "      <td>4800037</td>\n",
                            "      <td>3539</td>\n",
                            "      <td>2015-12-07</td>\n",
                            "      <td>3025</td>\n",
                            "      <td>NaN</td>\n",
                            "      <td>NaN</td>\n",
                            "      <td>NaN</td>\n",
                            "      <td>NaN</td>\n",
                            "      <td>NaN</td>\n",
                            "      <td>NaN</td>\n",
                            "      <td>NaN</td>\n",
                            "    </tr>\n",
                            "    <tr>\n",
                            "      <th>NumQtdReclamacoesDia</th>\n",
                            "      <td>4800037.0</td>\n",
                            "      <td>NaN</td>\n",
                            "      <td>NaN</td>\n",
                            "      <td>NaN</td>\n",
                            "      <td>1.657083</td>\n",
                            "      <td>4.950756</td>\n",
                            "      <td>1.0</td>\n",
                            "      <td>1.0</td>\n",
                            "      <td>1.0</td>\n",
                            "      <td>1.0</td>\n",
                            "      <td>1435.0</td>\n",
                            "    </tr>\n",
                            "  </tbody>\n",
                            "</table>\n",
                            "</div>"
                        ],
                        "text/plain": [
                            "                             count unique                        top     freq  \\\n",
                            "DatGeracaoConjuntoDados    4800037      4                 2023-01-30  2996102   \n",
                            "SigAgente                  4800037    118                      Cemig   329878   \n",
                            "NumCPFCNPJAgente         4800037.0    NaN                        NaN      NaN   \n",
                            "SigUF                      4800027     27                         SP  1006272   \n",
                            "CodigoMunicipio          4799967.0    NaN                        NaN      NaN   \n",
                            "NomMunicipio               4799886  10818                  São Paulo   124268   \n",
                            "NomCategoria               4800029      5                 Informação  3451610   \n",
                            "NomSubCategoria            4800031     10  Qualidade do Fornecimento  1464499   \n",
                            "NomTipologia               4800029     95           Falta de Energia  1071156   \n",
                            "NomDecisao                 4800037      3                Sem decisão  4268486   \n",
                            "DscSituacao                4800037     16      Finalizada por Script  3313522   \n",
                            "DtCriacao                  4800037   3539                 2015-12-07     3025   \n",
                            "NumQtdReclamacoesDia     4800037.0    NaN                        NaN      NaN   \n",
                            "\n",
                            "                                         mean                    std  \\\n",
                            "DatGeracaoConjuntoDados                   NaN                    NaN   \n",
                            "SigAgente                                 NaN                    NaN   \n",
                            "NumCPFCNPJAgente         16760770544378.65625  18872330433653.566406   \n",
                            "SigUF                                     NaN                    NaN   \n",
                            "CodigoMunicipio                3338718.061153          967376.256735   \n",
                            "NomMunicipio                              NaN                    NaN   \n",
                            "NomCategoria                              NaN                    NaN   \n",
                            "NomSubCategoria                           NaN                    NaN   \n",
                            "NomTipologia                              NaN                    NaN   \n",
                            "NomDecisao                                NaN                    NaN   \n",
                            "DscSituacao                               NaN                    NaN   \n",
                            "DtCriacao                                 NaN                    NaN   \n",
                            "NumQtdReclamacoesDia                 1.657083               4.950756   \n",
                            "\n",
                            "                                     min              25%              50%  \\\n",
                            "DatGeracaoConjuntoDados              NaN              NaN              NaN   \n",
                            "SigAgente                            NaN              NaN              NaN   \n",
                            "NumCPFCNPJAgente         1377555000110.0  4895728000180.0  8324196000181.0   \n",
                            "SigUF                                NaN              NaN              NaN   \n",
                            "CodigoMunicipio                    344.0        2611606.0        3303203.0   \n",
                            "NomMunicipio                         NaN              NaN              NaN   \n",
                            "NomCategoria                         NaN              NaN              NaN   \n",
                            "NomSubCategoria                      NaN              NaN              NaN   \n",
                            "NomTipologia                         NaN              NaN              NaN   \n",
                            "NomDecisao                           NaN              NaN              NaN   \n",
                            "DscSituacao                          NaN              NaN              NaN   \n",
                            "DtCriacao                            NaN              NaN              NaN   \n",
                            "NumQtdReclamacoesDia                 1.0              1.0              1.0   \n",
                            "\n",
                            "                                      75%               max  \n",
                            "DatGeracaoConjuntoDados               NaN               NaN  \n",
                            "SigAgente                             NaN               NaN  \n",
                            "NumCPFCNPJAgente         15413826000150.0  97578090000134.0  \n",
                            "SigUF                                 NaN               NaN  \n",
                            "CodigoMunicipio                 3552205.0         5300108.0  \n",
                            "NomMunicipio                          NaN               NaN  \n",
                            "NomCategoria                          NaN               NaN  \n",
                            "NomSubCategoria                       NaN               NaN  \n",
                            "NomTipologia                          NaN               NaN  \n",
                            "NomDecisao                            NaN               NaN  \n",
                            "DscSituacao                           NaN               NaN  \n",
                            "DtCriacao                             NaN               NaN  \n",
                            "NumQtdReclamacoesDia                  1.0            1435.0  "
                        ]
                    },
                    "execution_count": 73,
                    "metadata": {},
                    "output_type": "execute_result"
                }
            ],
            "source": [
                "df_ouvidoria_aneel.describe(include='all').T\n"
            ]
        },
        {
            "cell_type": "code",
            "execution_count": null,
            "metadata": {},
            "outputs": [
                {
                    "name": "stdout",
                    "output_type": "stream",
                    "text": [
                        "DatGeracaoConjuntoDados    0.000000\n",
                        "SigAgente                  0.000000\n",
                        "NumCPFCNPJAgente           0.000000\n",
                        "SigUF                      0.000208\n",
                        "CodigoMunicipio            0.001458\n",
                        "NomMunicipio               0.003146\n",
                        "NomCategoria               0.000167\n",
                        "NomSubCategoria            0.000125\n",
                        "NomTipologia               0.000167\n",
                        "NomDecisao                 0.000000\n",
                        "DscSituacao                0.000000\n",
                        "DtCriacao                  0.000000\n",
                        "NumQtdReclamacoesDia       0.000000\n",
                        "dtype: float64\n"
                    ]
                }
            ],
            "source": [
                "percent_missing =  df_ouvidoria_aneel.isnull().sum()  / len(df_ouvidoria_aneel)*100\n",
                "print(percent_missing)"
            ]
        },
        {
            "cell_type": "code",
            "execution_count": 75,
            "metadata": {},
            "outputs": [
                {
                    "name": "stdout",
                    "output_type": "stream",
                    "text": [
                        "Número de linhas onde são ambos nulos: 70\n",
                        "Percentual: 0.00%\n"
                    ]
                }
            ],
            "source": [
                "count_both_null = (df_ouvidoria_aneel['NomMunicipio'].isnull() & df_ouvidoria_aneel['CodigoMunicipio'].isnull()).sum()\n",
                "total_rows = len(df_ouvidoria_aneel)\n",
                "percent_both_null = (count_both_null / total_rows) * 100\n",
                "print(f\"Número de linhas onde são ambos nulos: {count_both_null}\")\n",
                "print(f\"Percentual: {percent_both_null:.2f}%\")"
            ]
        },
        {
            "cell_type": "code",
            "execution_count": null,
            "metadata": {
                "cell_id": "c913badf4b654cbea5dd155d3e142a76",
                "deepnote_cell_type": "code",
                "execution_context_id": "241191bb-c4a2-4e51-adc0-d98eeb87d43f",
                "execution_millis": 6458,
                "execution_start": 1758859434679,
                "source_hash": "6f6b78df"
            },
            "outputs": [
                {
                    "data": {
                        "image/png": "[encoded data removed]",
                        "text/plain": [
                            "<Figure size 1200x600 with 1 Axes>"
                        ]
                    },
                    "metadata": {
                        "image/png": {
                            "height": 590,
                            "width": 1189
                        }
                    },
                    "output_type": "display_data"
                }
            ],
            "source": [
                "# Certifique-se de que a coluna está em formato datetime\n",
                "df_ouvidoria_aneel['DtCriacao'] = pd.to_datetime(df_ouvidoria_aneel['DtCriacao'])\n",
                "\n",
                "# Crie os ticks para o eixo x\n",
                "meses = pd.date_range(start='2024-01-01', periods=12, freq='MS')  # Início de cada mês\n",
                "\n",
                "plt.figure(figsize=(12, 6))\n",
                "plt.scatter(df_ouvidoria_aneel['DtCriacao'], df_ouvidoria_aneel['NumQtdReclamacoesDia'])\n",
                "plt.xticks(meses, [d.strftime('%b %Y') for d in meses], rotation=45)\n",
                "plt.tight_layout()\n",
                "#plt.ylim((0.0, 10.0))\n",
                "plt.show()"
            ]
        },
        {
            "cell_type": "code",
            "execution_count": null,
            "metadata": {
                "cell_id": "b4068834df414be3a97f8016663769b4",
                "deepnote_cell_type": "notebook-function",
                "execution_context_id": "241191bb-c4a2-4e51-adc0-d98eeb87d43f",
                "execution_millis": 0,
                "execution_start": 1758859441187,
                "function_notebook_id": null,
                "source_hash": "b623e53d"
            },
            "outputs": [],
            "source": []
        },
        {
            "cell_type": "markdown",
            "metadata": {},
            "source": [
                "## Regiões"
            ]
        },
        {
            "cell_type": "code",
            "execution_count": 79,
            "metadata": {},
            "outputs": [
                {
                    "data": {
                        "application/vnd.microsoft.datawrangler.viewer.v0+json": {
                            "columns": [
                                {
                                    "name": "NomMunicipio",
                                    "rawType": "object",
                                    "type": "string"
                                },
                                {
                                    "name": "count",
                                    "rawType": "int64",
                                    "type": "integer"
                                },
                                {
                                    "name": "total_reclamacoes",
                                    "rawType": "int64",
                                    "type": "integer"
                                },
                                {
                                    "name": "media_reclamacoes",
                                    "rawType": "float64",
                                    "type": "float"
                                },
                                {
                                    "name": "percentual",
                                    "rawType": "float64",
                                    "type": "float"
                                }
                            ],
                            "ref": "6d87f03f-e228-46a6-a5e7-b98872ab4025",
                            "rows": [
                                [
                                    "São Paulo",
                                    "124268",
                                    "861134",
                                    "6.92965204236006",
                                    "2.588978154897845"
                                ],
                                [
                                    "Rio de Janeiro",
                                    "93979",
                                    "266805",
                                    "2.8389853052277636",
                                    "1.9579423344637767"
                                ],
                                [
                                    "Brasília",
                                    "75095",
                                    "174575",
                                    "2.324722018776217",
                                    "1.5645163239293598"
                                ],
                                [
                                    "Fortaleza",
                                    "53167",
                                    "259782",
                                    "4.886151184005116",
                                    "1.1076721405466714"
                                ],
                                [
                                    "Salvador",
                                    "45426",
                                    "114336",
                                    "2.516972658829745",
                                    "0.9463974769400774"
                                ],
                                [
                                    "Porto Alegre",
                                    "39818",
                                    "131127",
                                    "3.2931588728715657",
                                    "0.8295613687491744"
                                ],
                                [
                                    "Goiânia",
                                    "38313",
                                    "163744",
                                    "4.273849607182941",
                                    "0.7982064574033634"
                                ],
                                [
                                    "Belo Horizonte",
                                    "36360",
                                    "68543",
                                    "1.88512101210121",
                                    "0.7575179910522875"
                                ],
                                [
                                    "Recife",
                                    "33732",
                                    "94208",
                                    "2.792837661567651",
                                    "0.7027666907089044"
                                ],
                                [
                                    "São Gonçalo",
                                    "33527",
                                    "73856",
                                    "2.2028812598800966",
                                    "0.6984957559408702"
                                ],
                                [
                                    "Manaus",
                                    "28185",
                                    "60926",
                                    "2.1616462657441904",
                                    "0.5872014460343433"
                                ],
                                [
                                    "Belém",
                                    "27944",
                                    "53762",
                                    "1.9239192671056398",
                                    "0.5821804934533862"
                                ],
                                [
                                    "Duque de Caxias",
                                    "26683",
                                    "40657",
                                    "1.5237042311584155",
                                    "0.5559090361729424"
                                ],
                                [
                                    "SÃO PAULO",
                                    "24440",
                                    "77679",
                                    "3.178355155482815",
                                    "0.5091787596622086"
                                ],
                                [
                                    "Niterói",
                                    "22068",
                                    "35352",
                                    "1.601957585644372",
                                    "0.4597609193218339"
                                ],
                                [
                                    "Curitiba",
                                    "20956",
                                    "48604",
                                    "2.3193357510975376",
                                    "0.43659370243376616"
                                ],
                                [
                                    "Guarulhos",
                                    "20580",
                                    "32050",
                                    "1.5573372206025267",
                                    "0.42876018305434754"
                                ],
                                [
                                    "São Bernardo do Campo",
                                    "19398",
                                    "41318",
                                    "2.130013403443654",
                                    "0.40413459819670716"
                                ],
                                [
                                    "Osasco",
                                    "19209",
                                    "43067",
                                    "2.2420219688687593",
                                    "0.4001970046788611"
                                ],
                                [
                                    "Santo André",
                                    "18957",
                                    "41360",
                                    "2.181779817481669",
                                    "0.3949468799883997"
                                ]
                            ],
                            "shape": {
                                "columns": 4,
                                "rows": 20
                            }
                        },
                        "text/html": [
                            "<div>\n",
                            "<style scoped>\n",
                            "    .dataframe tbody tr th:only-of-type {\n",
                            "        vertical-align: middle;\n",
                            "    }\n",
                            "\n",
                            "    .dataframe tbody tr th {\n",
                            "        vertical-align: top;\n",
                            "    }\n",
                            "\n",
                            "    .dataframe thead th {\n",
                            "        text-align: right;\n",
                            "    }\n",
                            "</style>\n",
                            "<table border=\"1\" class=\"dataframe\">\n",
                            "  <thead>\n",
                            "    <tr style=\"text-align: right;\">\n",
                            "      <th></th>\n",
                            "      <th>count</th>\n",
                            "      <th>total_reclamacoes</th>\n",
                            "      <th>media_reclamacoes</th>\n",
                            "      <th>percentual</th>\n",
                            "    </tr>\n",
                            "    <tr>\n",
                            "      <th>NomMunicipio</th>\n",
                            "      <th></th>\n",
                            "      <th></th>\n",
                            "      <th></th>\n",
                            "      <th></th>\n",
                            "    </tr>\n",
                            "  </thead>\n",
                            "  <tbody>\n",
                            "    <tr>\n",
                            "      <th>São Paulo</th>\n",
                            "      <td>124268</td>\n",
                            "      <td>861134</td>\n",
                            "      <td>6.929652</td>\n",
                            "      <td>2.588978</td>\n",
                            "    </tr>\n",
                            "    <tr>\n",
                            "      <th>Rio de Janeiro</th>\n",
                            "      <td>93979</td>\n",
                            "      <td>266805</td>\n",
                            "      <td>2.838985</td>\n",
                            "      <td>1.957942</td>\n",
                            "    </tr>\n",
                            "    <tr>\n",
                            "      <th>Brasília</th>\n",
                            "      <td>75095</td>\n",
                            "      <td>174575</td>\n",
                            "      <td>2.324722</td>\n",
                            "      <td>1.564516</td>\n",
                            "    </tr>\n",
                            "    <tr>\n",
                            "      <th>Fortaleza</th>\n",
                            "      <td>53167</td>\n",
                            "      <td>259782</td>\n",
                            "      <td>4.886151</td>\n",
                            "      <td>1.107672</td>\n",
                            "    </tr>\n",
                            "    <tr>\n",
                            "      <th>Salvador</th>\n",
                            "      <td>45426</td>\n",
                            "      <td>114336</td>\n",
                            "      <td>2.516973</td>\n",
                            "      <td>0.946397</td>\n",
                            "    </tr>\n",
                            "    <tr>\n",
                            "      <th>Porto Alegre</th>\n",
                            "      <td>39818</td>\n",
                            "      <td>131127</td>\n",
                            "      <td>3.293159</td>\n",
                            "      <td>0.829561</td>\n",
                            "    </tr>\n",
                            "    <tr>\n",
                            "      <th>Goiânia</th>\n",
                            "      <td>38313</td>\n",
                            "      <td>163744</td>\n",
                            "      <td>4.273850</td>\n",
                            "      <td>0.798206</td>\n",
                            "    </tr>\n",
                            "    <tr>\n",
                            "      <th>Belo Horizonte</th>\n",
                            "      <td>36360</td>\n",
                            "      <td>68543</td>\n",
                            "      <td>1.885121</td>\n",
                            "      <td>0.757518</td>\n",
                            "    </tr>\n",
                            "    <tr>\n",
                            "      <th>Recife</th>\n",
                            "      <td>33732</td>\n",
                            "      <td>94208</td>\n",
                            "      <td>2.792838</td>\n",
                            "      <td>0.702767</td>\n",
                            "    </tr>\n",
                            "    <tr>\n",
                            "      <th>São Gonçalo</th>\n",
                            "      <td>33527</td>\n",
                            "      <td>73856</td>\n",
                            "      <td>2.202881</td>\n",
                            "      <td>0.698496</td>\n",
                            "    </tr>\n",
                            "    <tr>\n",
                            "      <th>Manaus</th>\n",
                            "      <td>28185</td>\n",
                            "      <td>60926</td>\n",
                            "      <td>2.161646</td>\n",
                            "      <td>0.587201</td>\n",
                            "    </tr>\n",
                            "    <tr>\n",
                            "      <th>Belém</th>\n",
                            "      <td>27944</td>\n",
                            "      <td>53762</td>\n",
                            "      <td>1.923919</td>\n",
                            "      <td>0.582180</td>\n",
                            "    </tr>\n",
                            "    <tr>\n",
                            "      <th>Duque de Caxias</th>\n",
                            "      <td>26683</td>\n",
                            "      <td>40657</td>\n",
                            "      <td>1.523704</td>\n",
                            "      <td>0.555909</td>\n",
                            "    </tr>\n",
                            "    <tr>\n",
                            "      <th>SÃO PAULO</th>\n",
                            "      <td>24440</td>\n",
                            "      <td>77679</td>\n",
                            "      <td>3.178355</td>\n",
                            "      <td>0.509179</td>\n",
                            "    </tr>\n",
                            "    <tr>\n",
                            "      <th>Niterói</th>\n",
                            "      <td>22068</td>\n",
                            "      <td>35352</td>\n",
                            "      <td>1.601958</td>\n",
                            "      <td>0.459761</td>\n",
                            "    </tr>\n",
                            "    <tr>\n",
                            "      <th>Curitiba</th>\n",
                            "      <td>20956</td>\n",
                            "      <td>48604</td>\n",
                            "      <td>2.319336</td>\n",
                            "      <td>0.436594</td>\n",
                            "    </tr>\n",
                            "    <tr>\n",
                            "      <th>Guarulhos</th>\n",
                            "      <td>20580</td>\n",
                            "      <td>32050</td>\n",
                            "      <td>1.557337</td>\n",
                            "      <td>0.428760</td>\n",
                            "    </tr>\n",
                            "    <tr>\n",
                            "      <th>São Bernardo do Campo</th>\n",
                            "      <td>19398</td>\n",
                            "      <td>41318</td>\n",
                            "      <td>2.130013</td>\n",
                            "      <td>0.404135</td>\n",
                            "    </tr>\n",
                            "    <tr>\n",
                            "      <th>Osasco</th>\n",
                            "      <td>19209</td>\n",
                            "      <td>43067</td>\n",
                            "      <td>2.242022</td>\n",
                            "      <td>0.400197</td>\n",
                            "    </tr>\n",
                            "    <tr>\n",
                            "      <th>Santo André</th>\n",
                            "      <td>18957</td>\n",
                            "      <td>41360</td>\n",
                            "      <td>2.181780</td>\n",
                            "      <td>0.394947</td>\n",
                            "    </tr>\n",
                            "  </tbody>\n",
                            "</table>\n",
                            "</div>"
                        ],
                        "text/plain": [
                            "                        count  total_reclamacoes  media_reclamacoes  \\\n",
                            "NomMunicipio                                                          \n",
                            "São Paulo              124268             861134           6.929652   \n",
                            "Rio de Janeiro          93979             266805           2.838985   \n",
                            "Brasília                75095             174575           2.324722   \n",
                            "Fortaleza               53167             259782           4.886151   \n",
                            "Salvador                45426             114336           2.516973   \n",
                            "Porto Alegre            39818             131127           3.293159   \n",
                            "Goiânia                 38313             163744           4.273850   \n",
                            "Belo Horizonte          36360              68543           1.885121   \n",
                            "Recife                  33732              94208           2.792838   \n",
                            "São Gonçalo             33527              73856           2.202881   \n",
                            "Manaus                  28185              60926           2.161646   \n",
                            "Belém                   27944              53762           1.923919   \n",
                            "Duque de Caxias         26683              40657           1.523704   \n",
                            "SÃO PAULO               24440              77679           3.178355   \n",
                            "Niterói                 22068              35352           1.601958   \n",
                            "Curitiba                20956              48604           2.319336   \n",
                            "Guarulhos               20580              32050           1.557337   \n",
                            "São Bernardo do Campo   19398              41318           2.130013   \n",
                            "Osasco                  19209              43067           2.242022   \n",
                            "Santo André             18957              41360           2.181780   \n",
                            "\n",
                            "                       percentual  \n",
                            "NomMunicipio                       \n",
                            "São Paulo                2.588978  \n",
                            "Rio de Janeiro           1.957942  \n",
                            "Brasília                 1.564516  \n",
                            "Fortaleza                1.107672  \n",
                            "Salvador                 0.946397  \n",
                            "Porto Alegre             0.829561  \n",
                            "Goiânia                  0.798206  \n",
                            "Belo Horizonte           0.757518  \n",
                            "Recife                   0.702767  \n",
                            "São Gonçalo              0.698496  \n",
                            "Manaus                   0.587201  \n",
                            "Belém                    0.582180  \n",
                            "Duque de Caxias          0.555909  \n",
                            "SÃO PAULO                0.509179  \n",
                            "Niterói                  0.459761  \n",
                            "Curitiba                 0.436594  \n",
                            "Guarulhos                0.428760  \n",
                            "São Bernardo do Campo    0.404135  \n",
                            "Osasco                   0.400197  \n",
                            "Santo André              0.394947  "
                        ]
                    },
                    "execution_count": 79,
                    "metadata": {},
                    "output_type": "execute_result"
                }
            ],
            "source": [
                "candidates = ['NomMunicipio', 'NomMunicipioAtendimento', 'Municipio', 'nom_municipio', 'MunicipioAtendimento', 'NomeMunicipio', 'NomMunicipioResidencia']\n",
                "municipio_col = next((c for c in candidates if c in df_ouvidoria_aneel.columns), None)\n",
                "if municipio_col is None:\n",
                "    raise KeyError('Coluna de município não encontrada')\n",
                "counts = df_ouvidoria_aneel.groupby(municipio_col).size().rename('count')\n",
                "if 'NumQtdReclamacoesDia' in df_ouvidoria_aneel.columns:\n",
                "    percentile = df_ouvidoria_aneel.groupby(municipio_col)['NumQtdReclamacoesDia'].quantile(0.95).rename('percentual')\n",
                "    total = df_ouvidoria_aneel.groupby(municipio_col)['NumQtdReclamacoesDia'].sum().rename('total_reclamacoes')\n",
                "    mean = df_ouvidoria_aneel.groupby(municipio_col)['NumQtdReclamacoesDia'].mean().rename('media_reclamacoes')\n",
                "else:\n",
                "    import numpy as np\n",
                "    total = pd.Series(0, index=counts.index, name='total_reclamacoes')\n",
                "    mean = pd.Series(0, index=counts.index, name='media_reclamacoes')\n",
                "df_stats = pd.concat([counts, total, mean], axis=1)\n",
                "df_stats['percentual'] = df_stats['count'] / df_stats['count'].sum() * 100\n",
                "df_stats = df_stats.sort_values('count', ascending=False)\n",
                "df_stats.head(20)"
            ]
        },
        {
            "cell_type": "markdown",
            "metadata": {},
            "source": [
                "## 30 municípios com mais reclamações"
            ]
        },
        {
            "cell_type": "code",
            "execution_count": 77,
            "metadata": {},
            "outputs": [
                {
                    "data": {
                        "image/png": "[encoded data removed]",
                        "text/plain": [
                            "<Figure size 1000x600 with 1 Axes>"
                        ]
                    },
                    "metadata": {},
                    "output_type": "display_data"
                },
                {
                    "data": {
                        "text/plain": [
                            "<Figure size 640x480 with 0 Axes>"
                        ]
                    },
                    "metadata": {},
                    "output_type": "display_data"
                }
            ],
            "source": [
                "df_stats.to_csv('/workspaces/Project-Team-01-Samsung-Innovation-Campus-2025/data/municipio_stats.csv', index=True)\n",
                "import matplotlib.pyplot as plt\n",
                "plt.figure(figsize=(10,6))\n",
                "df_stats['count'].head(30).plot(kind='bar')\n",
                "plt.ylabel('Contagem')\n",
                "plt.xlabel(municipio_col)\n",
                "plt.tight_layout()\n",
                "plt.show()\n",
                "plt.savefig('/workspaces/Project-Team-01-Samsung-Innovation-Campus-2025/data/municipio_reclamacoes.png')"
            ]
        },
        {
            "cell_type": "markdown",
            "metadata": {},
            "source": [
                "## Categorias"
            ]
        },
        {
            "cell_type": "code",
            "execution_count": 81,
            "metadata": {},
            "outputs": [
                {
                    "data": {
                        "application/vnd.microsoft.datawrangler.viewer.v0+json": {
                            "columns": [
                                {
                                    "name": "NomCategoria",
                                    "rawType": "object",
                                    "type": "string"
                                },
                                {
                                    "name": "count",
                                    "rawType": "float64",
                                    "type": "float"
                                },
                                {
                                    "name": "mean",
                                    "rawType": "float64",
                                    "type": "float"
                                },
                                {
                                    "name": "std",
                                    "rawType": "float64",
                                    "type": "float"
                                },
                                {
                                    "name": "min",
                                    "rawType": "float64",
                                    "type": "float"
                                },
                                {
                                    "name": "25%",
                                    "rawType": "float64",
                                    "type": "float"
                                },
                                {
                                    "name": "50%",
                                    "rawType": "float64",
                                    "type": "float"
                                },
                                {
                                    "name": "75%",
                                    "rawType": "float64",
                                    "type": "float"
                                },
                                {
                                    "name": "max",
                                    "rawType": "float64",
                                    "type": "float"
                                }
                            ],
                            "ref": "3b722484-c589-443a-8c9b-ab37f9f2a736",
                            "rows": [
                                [
                                    "Denúncias",
                                    "7626.0",
                                    "1.1915814319433518",
                                    "2.5878176013949052",
                                    "1.0",
                                    "1.0",
                                    "1.0",
                                    "1.0",
                                    "76.0"
                                ],
                                [
                                    "Elogio",
                                    "642.0",
                                    "1.0046728971962617",
                                    "0.06825186571668533",
                                    "1.0",
                                    "1.0",
                                    "1.0",
                                    "1.0",
                                    "2.0"
                                ],
                                [
                                    "Informação",
                                    "3451610.0",
                                    "1.7902063095193257",
                                    "5.709397897139272",
                                    "1.0",
                                    "1.0",
                                    "1.0",
                                    "1.0",
                                    "1435.0"
                                ],
                                [
                                    "Reclamações",
                                    "1338675.0",
                                    "1.317524417801184",
                                    "1.9067044198282226",
                                    "1.0",
                                    "1.0",
                                    "1.0",
                                    "1.0",
                                    "385.0"
                                ],
                                [
                                    "Sugestão/Crítica",
                                    "1476.0",
                                    "1.0088075880758807",
                                    "0.09346621379965643",
                                    "1.0",
                                    "1.0",
                                    "1.0",
                                    "1.0",
                                    "2.0"
                                ]
                            ],
                            "shape": {
                                "columns": 8,
                                "rows": 5
                            }
                        },
                        "text/html": [
                            "<div>\n",
                            "<style scoped>\n",
                            "    .dataframe tbody tr th:only-of-type {\n",
                            "        vertical-align: middle;\n",
                            "    }\n",
                            "\n",
                            "    .dataframe tbody tr th {\n",
                            "        vertical-align: top;\n",
                            "    }\n",
                            "\n",
                            "    .dataframe thead th {\n",
                            "        text-align: right;\n",
                            "    }\n",
                            "</style>\n",
                            "<table border=\"1\" class=\"dataframe\">\n",
                            "  <thead>\n",
                            "    <tr style=\"text-align: right;\">\n",
                            "      <th></th>\n",
                            "      <th>count</th>\n",
                            "      <th>mean</th>\n",
                            "      <th>std</th>\n",
                            "      <th>min</th>\n",
                            "      <th>25%</th>\n",
                            "      <th>50%</th>\n",
                            "      <th>75%</th>\n",
                            "      <th>max</th>\n",
                            "    </tr>\n",
                            "    <tr>\n",
                            "      <th>NomCategoria</th>\n",
                            "      <th></th>\n",
                            "      <th></th>\n",
                            "      <th></th>\n",
                            "      <th></th>\n",
                            "      <th></th>\n",
                            "      <th></th>\n",
                            "      <th></th>\n",
                            "      <th></th>\n",
                            "    </tr>\n",
                            "  </thead>\n",
                            "  <tbody>\n",
                            "    <tr>\n",
                            "      <th>Denúncias</th>\n",
                            "      <td>7626.0</td>\n",
                            "      <td>1.191581</td>\n",
                            "      <td>2.587818</td>\n",
                            "      <td>1.0</td>\n",
                            "      <td>1.0</td>\n",
                            "      <td>1.0</td>\n",
                            "      <td>1.0</td>\n",
                            "      <td>76.0</td>\n",
                            "    </tr>\n",
                            "    <tr>\n",
                            "      <th>Elogio</th>\n",
                            "      <td>642.0</td>\n",
                            "      <td>1.004673</td>\n",
                            "      <td>0.068252</td>\n",
                            "      <td>1.0</td>\n",
                            "      <td>1.0</td>\n",
                            "      <td>1.0</td>\n",
                            "      <td>1.0</td>\n",
                            "      <td>2.0</td>\n",
                            "    </tr>\n",
                            "    <tr>\n",
                            "      <th>Informação</th>\n",
                            "      <td>3451610.0</td>\n",
                            "      <td>1.790206</td>\n",
                            "      <td>5.709398</td>\n",
                            "      <td>1.0</td>\n",
                            "      <td>1.0</td>\n",
                            "      <td>1.0</td>\n",
                            "      <td>1.0</td>\n",
                            "      <td>1435.0</td>\n",
                            "    </tr>\n",
                            "    <tr>\n",
                            "      <th>Reclamações</th>\n",
                            "      <td>1338675.0</td>\n",
                            "      <td>1.317524</td>\n",
                            "      <td>1.906704</td>\n",
                            "      <td>1.0</td>\n",
                            "      <td>1.0</td>\n",
                            "      <td>1.0</td>\n",
                            "      <td>1.0</td>\n",
                            "      <td>385.0</td>\n",
                            "    </tr>\n",
                            "    <tr>\n",
                            "      <th>Sugestão/Crítica</th>\n",
                            "      <td>1476.0</td>\n",
                            "      <td>1.008808</td>\n",
                            "      <td>0.093466</td>\n",
                            "      <td>1.0</td>\n",
                            "      <td>1.0</td>\n",
                            "      <td>1.0</td>\n",
                            "      <td>1.0</td>\n",
                            "      <td>2.0</td>\n",
                            "    </tr>\n",
                            "  </tbody>\n",
                            "</table>\n",
                            "</div>"
                        ],
                        "text/plain": [
                            "                      count      mean       std  min  25%  50%  75%     max\n",
                            "NomCategoria                                                               \n",
                            "Denúncias            7626.0  1.191581  2.587818  1.0  1.0  1.0  1.0    76.0\n",
                            "Elogio                642.0  1.004673  0.068252  1.0  1.0  1.0  1.0     2.0\n",
                            "Informação        3451610.0  1.790206  5.709398  1.0  1.0  1.0  1.0  1435.0\n",
                            "Reclamações       1338675.0  1.317524  1.906704  1.0  1.0  1.0  1.0   385.0\n",
                            "Sugestão/Crítica     1476.0  1.008808  0.093466  1.0  1.0  1.0  1.0     2.0"
                        ]
                    },
                    "execution_count": 81,
                    "metadata": {},
                    "output_type": "execute_result"
                }
            ],
            "source": [
                "stats_por_categoria = df_ouvidoria_aneel.groupby('NomCategoria')['NumQtdReclamacoesDia'].describe()\n",
                "stats_por_categoria"
            ]
        },
        {
            "cell_type": "code",
            "execution_count": null,
            "metadata": {},
            "outputs": [
                {
                    "data": {
                        "image/png": "[encoded data removed]",
                        "text/plain": [
                            "<Figure size 1000x600 with 1 Axes>"
                        ]
                    },
                    "metadata": {},
                    "output_type": "display_data"
                },
                {
                    "data": {
                        "text/plain": [
                            "<Figure size 640x480 with 0 Axes>"
                        ]
                    },
                    "metadata": {},
                    "output_type": "display_data"
                }
            ],
            "source": [
                "\n",
                "df_filtered = df_ouvidoria_aneel.dropna(subset=['NomCategoria'])\n",
                "\n",
                "plt.figure(figsize=(10,6))\n",
                "_ = sns.boxplot(x='NomCategoria', y='NumQtdReclamacoesDia', data=df_filtered)\n",
                "plt.xticks(rotation=45)\n",
                "plt.tight_layout()\n",
                "plt.show()\n",
                "plt.savefig('/workspaces/Project-Team-01-Samsung-Innovation-Campus-2025/data/categoria_reclamacoes.png')"
            ]
        }
    ],
    "metadata": {
        "deepnote_notebook_id": "cc668ff36c504beb92e787f25ccd12a1",
        "kernelspec": {
            "display_name": "Python 3",
            "language": "python",
            "name": "python3"
        },
        "language_info": {
            "codemirror_mode": {
                "name": "ipython",
                "version": 3
            },
            "file_extension": ".py",
            "mimetype": "text/x-python",
            "name": "python",
            "nbconvert_exporter": "python",
            "pygments_lexer": "ipython3",
            "version": "3.12.1"
        }
    },
    "nbformat": 4,
    "nbformat_minor": 0
}
