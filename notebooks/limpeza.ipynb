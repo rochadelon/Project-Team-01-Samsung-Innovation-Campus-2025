{
 "cells": [
  {
   "cell_type": "code",
   "execution_count": 1,
   "id": "5feedf40",
   "metadata": {
    "jupyter": {
     "is_executing": true
    }
   },
   "outputs": [],
   "source": [
    "import pickle\n",
    "import pandas as pd\n"
   ]
  },
  {
   "cell_type": "code",
   "execution_count": 2,
   "id": "488ce15a",
   "metadata": {},
   "outputs": [],
   "source": [
    "df_ouvidoria_aneel = pd.read_csv('/workspaces/Project-Team-01-Samsung-Innovation-Campus-2025/data/df_ouvidoria_aneel_atualizado.csv', low_memory=False)"
   ]
  },
  {
   "cell_type": "code",
   "execution_count": 22,
   "id": "ddf91c80-c564-49d4-a623-bd8b825553b3",
   "metadata": {},
   "outputs": [
    {
     "data": {
      "application/vnd.microsoft.datawrangler.viewer.v0+json": {
       "columns": [
        {
         "name": "index",
         "rawType": "int64",
         "type": "integer"
        },
        {
         "name": "Unnamed: 0",
         "rawType": "int64",
         "type": "integer"
        },
        {
         "name": "DatGeracaoConjuntoDados",
         "rawType": "object",
         "type": "string"
        },
        {
         "name": "SigUF",
         "rawType": "object",
         "type": "string"
        },
        {
         "name": "NomMunicipio",
         "rawType": "object",
         "type": "string"
        },
        {
         "name": "NomCategoria",
         "rawType": "object",
         "type": "string"
        },
        {
         "name": "NomSubCategoria",
         "rawType": "object",
         "type": "string"
        },
        {
         "name": "NomTipologia",
         "rawType": "object",
         "type": "string"
        },
        {
         "name": "NomDecisao",
         "rawType": "object",
         "type": "string"
        },
        {
         "name": "DscSituacao",
         "rawType": "object",
         "type": "string"
        },
        {
         "name": "DtCriacao",
         "rawType": "object",
         "type": "string"
        },
        {
         "name": "NumQtdReclamacoesDia",
         "rawType": "float64",
         "type": "float"
        }
       ],
       "ref": "5b485b1b-a562-480a-821b-78f263190fd4",
       "rows": [
        [
         "0",
         "0",
         "2025-09-25",
         "RO",
         "ALTA FLORESTA D'OESTE",
         "Informação",
         "Qualidade do Fornecimento",
         "Oscilação de Tensão",
         "Sem decisão",
         "Finalizada por Script",
         "2025-01-21",
         "1.0"
        ],
        [
         "1",
         "1",
         "2025-09-25",
         "RO",
         "ALTA FLORESTA D'OESTE",
         "Reclamações",
         "Cobranças",
         "Devol Valores",
         "Improcedente",
         "Encerrada",
         "2025-02-24",
         "4.0"
        ],
        [
         "2",
         "2",
         "2025-09-25",
         "RO",
         "ALTA FLORESTA D'OESTE",
         "Reclamações",
         "Qualidade do Fornecimento",
         "Oscilação de Tensão",
         "Sem decisão",
         "Novos Questionamentos à Concessionária",
         "2025-01-27",
         "1.0"
        ],
        [
         "3",
         "3",
         "2025-09-25",
         "RO",
         "ALTA FLORESTA D'OESTE",
         "Informação",
         "Faturamento",
         "Variação de Consumo",
         "Sem decisão",
         "Finalizada por Script",
         "2025-09-09",
         "1.0"
        ],
        [
         "4",
         "4",
         "2025-09-25",
         "RO",
         "ALTA FLORESTA D'OESTE",
         "Informação",
         "Serviços Técnicos",
         "Devol Antecipação Obras",
         "Sem decisão",
         "Encerrada",
         "2025-08-18",
         "1.0"
        ]
       ],
       "shape": {
        "columns": 11,
        "rows": 5
       }
      },
      "text/html": [
       "<div>\n",
       "<style scoped>\n",
       "    .dataframe tbody tr th:only-of-type {\n",
       "        vertical-align: middle;\n",
       "    }\n",
       "\n",
       "    .dataframe tbody tr th {\n",
       "        vertical-align: top;\n",
       "    }\n",
       "\n",
       "    .dataframe thead th {\n",
       "        text-align: right;\n",
       "    }\n",
       "</style>\n",
       "<table border=\"1\" class=\"dataframe\">\n",
       "  <thead>\n",
       "    <tr style=\"text-align: right;\">\n",
       "      <th></th>\n",
       "      <th>Unnamed: 0</th>\n",
       "      <th>DatGeracaoConjuntoDados</th>\n",
       "      <th>SigUF</th>\n",
       "      <th>NomMunicipio</th>\n",
       "      <th>NomCategoria</th>\n",
       "      <th>NomSubCategoria</th>\n",
       "      <th>NomTipologia</th>\n",
       "      <th>NomDecisao</th>\n",
       "      <th>DscSituacao</th>\n",
       "      <th>DtCriacao</th>\n",
       "      <th>NumQtdReclamacoesDia</th>\n",
       "    </tr>\n",
       "  </thead>\n",
       "  <tbody>\n",
       "    <tr>\n",
       "      <th>0</th>\n",
       "      <td>0</td>\n",
       "      <td>2025-09-25</td>\n",
       "      <td>RO</td>\n",
       "      <td>ALTA FLORESTA D'OESTE</td>\n",
       "      <td>Informação</td>\n",
       "      <td>Qualidade do Fornecimento</td>\n",
       "      <td>Oscilação de Tensão</td>\n",
       "      <td>Sem decisão</td>\n",
       "      <td>Finalizada por Script</td>\n",
       "      <td>2025-01-21</td>\n",
       "      <td>1.0</td>\n",
       "    </tr>\n",
       "    <tr>\n",
       "      <th>1</th>\n",
       "      <td>1</td>\n",
       "      <td>2025-09-25</td>\n",
       "      <td>RO</td>\n",
       "      <td>ALTA FLORESTA D'OESTE</td>\n",
       "      <td>Reclamações</td>\n",
       "      <td>Cobranças</td>\n",
       "      <td>Devol Valores</td>\n",
       "      <td>Improcedente</td>\n",
       "      <td>Encerrada</td>\n",
       "      <td>2025-02-24</td>\n",
       "      <td>4.0</td>\n",
       "    </tr>\n",
       "    <tr>\n",
       "      <th>2</th>\n",
       "      <td>2</td>\n",
       "      <td>2025-09-25</td>\n",
       "      <td>RO</td>\n",
       "      <td>ALTA FLORESTA D'OESTE</td>\n",
       "      <td>Reclamações</td>\n",
       "      <td>Qualidade do Fornecimento</td>\n",
       "      <td>Oscilação de Tensão</td>\n",
       "      <td>Sem decisão</td>\n",
       "      <td>Novos Questionamentos à Concessionária</td>\n",
       "      <td>2025-01-27</td>\n",
       "      <td>1.0</td>\n",
       "    </tr>\n",
       "    <tr>\n",
       "      <th>3</th>\n",
       "      <td>3</td>\n",
       "      <td>2025-09-25</td>\n",
       "      <td>RO</td>\n",
       "      <td>ALTA FLORESTA D'OESTE</td>\n",
       "      <td>Informação</td>\n",
       "      <td>Faturamento</td>\n",
       "      <td>Variação de Consumo</td>\n",
       "      <td>Sem decisão</td>\n",
       "      <td>Finalizada por Script</td>\n",
       "      <td>2025-09-09</td>\n",
       "      <td>1.0</td>\n",
       "    </tr>\n",
       "    <tr>\n",
       "      <th>4</th>\n",
       "      <td>4</td>\n",
       "      <td>2025-09-25</td>\n",
       "      <td>RO</td>\n",
       "      <td>ALTA FLORESTA D'OESTE</td>\n",
       "      <td>Informação</td>\n",
       "      <td>Serviços Técnicos</td>\n",
       "      <td>Devol Antecipação Obras</td>\n",
       "      <td>Sem decisão</td>\n",
       "      <td>Encerrada</td>\n",
       "      <td>2025-08-18</td>\n",
       "      <td>1.0</td>\n",
       "    </tr>\n",
       "  </tbody>\n",
       "</table>\n",
       "</div>"
      ],
      "text/plain": [
       "   Unnamed: 0 DatGeracaoConjuntoDados SigUF           NomMunicipio  \\\n",
       "0           0              2025-09-25    RO  ALTA FLORESTA D'OESTE   \n",
       "1           1              2025-09-25    RO  ALTA FLORESTA D'OESTE   \n",
       "2           2              2025-09-25    RO  ALTA FLORESTA D'OESTE   \n",
       "3           3              2025-09-25    RO  ALTA FLORESTA D'OESTE   \n",
       "4           4              2025-09-25    RO  ALTA FLORESTA D'OESTE   \n",
       "\n",
       "  NomCategoria            NomSubCategoria             NomTipologia  \\\n",
       "0   Informação  Qualidade do Fornecimento      Oscilação de Tensão   \n",
       "1  Reclamações                  Cobranças            Devol Valores   \n",
       "2  Reclamações  Qualidade do Fornecimento      Oscilação de Tensão   \n",
       "3   Informação                Faturamento      Variação de Consumo   \n",
       "4   Informação          Serviços Técnicos  Devol Antecipação Obras   \n",
       "\n",
       "     NomDecisao                             DscSituacao   DtCriacao  \\\n",
       "0   Sem decisão                   Finalizada por Script  2025-01-21   \n",
       "1  Improcedente                               Encerrada  2025-02-24   \n",
       "2   Sem decisão  Novos Questionamentos à Concessionária  2025-01-27   \n",
       "3   Sem decisão                   Finalizada por Script  2025-09-09   \n",
       "4   Sem decisão                               Encerrada  2025-08-18   \n",
       "\n",
       "   NumQtdReclamacoesDia  \n",
       "0                   1.0  \n",
       "1                   4.0  \n",
       "2                   1.0  \n",
       "3                   1.0  \n",
       "4                   1.0  "
      ]
     },
     "execution_count": 22,
     "metadata": {},
     "output_type": "execute_result"
    }
   ],
   "source": [
    "df_ouvidoria_aneel.head()"
   ]
  },
  {
   "cell_type": "markdown",
   "id": "3a24da32",
   "metadata": {},
   "source": [
    "## ⭐ Dados da ouvidoria aneel disponíveis em 'df_ouvidoria_aneel'"
   ]
  },
  {
   "cell_type": "code",
   "execution_count": 23,
   "id": "4320e2ba",
   "metadata": {
    "jupyter": {
     "is_executing": true
    }
   },
   "outputs": [
    {
     "data": {
      "application/vnd.microsoft.datawrangler.viewer.v0+json": {
       "columns": [
        {
         "name": "index",
         "rawType": "object",
         "type": "string"
        },
        {
         "name": "0",
         "rawType": "int64",
         "type": "integer"
        }
       ],
       "ref": "3f7fc2ff-f660-46ae-b315-25e3e12e6cdc",
       "rows": [
        [
         "Unnamed: 0",
         "0"
        ],
        [
         "DatGeracaoConjuntoDados",
         "0"
        ],
        [
         "SigUF",
         "0"
        ],
        [
         "NomMunicipio",
         "0"
        ],
        [
         "NomCategoria",
         "0"
        ],
        [
         "NomSubCategoria",
         "0"
        ],
        [
         "NomTipologia",
         "0"
        ],
        [
         "NomDecisao",
         "0"
        ],
        [
         "DscSituacao",
         "0"
        ],
        [
         "DtCriacao",
         "0"
        ],
        [
         "NumQtdReclamacoesDia",
         "0"
        ]
       ],
       "shape": {
        "columns": 1,
        "rows": 11
       }
      },
      "text/plain": [
       "Unnamed: 0                 0\n",
       "DatGeracaoConjuntoDados    0\n",
       "SigUF                      0\n",
       "NomMunicipio               0\n",
       "NomCategoria               0\n",
       "NomSubCategoria            0\n",
       "NomTipologia               0\n",
       "NomDecisao                 0\n",
       "DscSituacao                0\n",
       "DtCriacao                  0\n",
       "NumQtdReclamacoesDia       0\n",
       "dtype: int64"
      ]
     },
     "execution_count": 23,
     "metadata": {},
     "output_type": "execute_result"
    }
   ],
   "source": [
    "df_ouvidoria_aneel.isna().sum()"
   ]
  },
  {
   "cell_type": "code",
   "execution_count": 24,
   "id": "398617d3",
   "metadata": {},
   "outputs": [
    {
     "data": {
      "application/vnd.microsoft.datawrangler.viewer.v0+json": {
       "columns": [
        {
         "name": "index",
         "rawType": "object",
         "type": "string"
        },
        {
         "name": "0",
         "rawType": "object",
         "type": "unknown"
        }
       ],
       "ref": "77031537-a13b-42ea-961e-3b9d0230fc0c",
       "rows": [
        [
         "Unnamed: 0",
         "int64"
        ],
        [
         "DatGeracaoConjuntoDados",
         "object"
        ],
        [
         "SigUF",
         "object"
        ],
        [
         "NomMunicipio",
         "object"
        ],
        [
         "NomCategoria",
         "object"
        ],
        [
         "NomSubCategoria",
         "object"
        ],
        [
         "NomTipologia",
         "object"
        ],
        [
         "NomDecisao",
         "object"
        ],
        [
         "DscSituacao",
         "object"
        ],
        [
         "DtCriacao",
         "object"
        ],
        [
         "NumQtdReclamacoesDia",
         "float64"
        ]
       ],
       "shape": {
        "columns": 1,
        "rows": 11
       }
      },
      "text/plain": [
       "Unnamed: 0                   int64\n",
       "DatGeracaoConjuntoDados     object\n",
       "SigUF                       object\n",
       "NomMunicipio                object\n",
       "NomCategoria                object\n",
       "NomSubCategoria             object\n",
       "NomTipologia                object\n",
       "NomDecisao                  object\n",
       "DscSituacao                 object\n",
       "DtCriacao                   object\n",
       "NumQtdReclamacoesDia       float64\n",
       "dtype: object"
      ]
     },
     "execution_count": 24,
     "metadata": {},
     "output_type": "execute_result"
    }
   ],
   "source": [
    "df_ouvidoria_aneel.dtypes"
   ]
  },
  {
   "cell_type": "code",
   "execution_count": 3,
   "id": "0b067a1a",
   "metadata": {},
   "outputs": [],
   "source": [
    "df_ouvidoria_aneel.drop(columns=['Unnamed: 0'], inplace=True)"
   ]
  },
  {
   "cell_type": "code",
   "execution_count": 4,
   "id": "44c080bc",
   "metadata": {},
   "outputs": [],
   "source": [
    "# Removendo a coluna 'SigAgente'\n",
    "# Removendo a coluna 'CodigoMunicipio'\n",
    "\n",
    "df_ouvidoria_aneel.drop('SigAgente', axis=1, inplace=True)\n",
    "df_ouvidoria_aneel.drop('CodigoMunicipio', axis=1, inplace=True)\n",
    "df_ouvidoria_aneel.drop('NumCPFCNPJAgente', axis=1, inplace=True)"
   ]
  },
  {
   "cell_type": "code",
   "execution_count": 4,
   "id": "653f9216",
   "metadata": {},
   "outputs": [],
   "source": [
    "# Convertendo as colunas de data para o formato datetime\n",
    "df_ouvidoria_aneel['DatGeracaoConjuntoDados'] = pd.to_datetime(df_ouvidoria_aneel['DatGeracaoConjuntoDados'], format='%Y-%m-%d', errors='coerce')\n",
    "df_ouvidoria_aneel['DtCriacao'] = pd.to_datetime(df_ouvidoria_aneel['DtCriacao'], format='%Y-%m-%d', errors='coerce')"
   ]
  },
  {
   "cell_type": "code",
   "execution_count": 5,
   "id": "aadc823e",
   "metadata": {},
   "outputs": [],
   "source": [
    "# Convertendo colunas categóricas para o tipo 'category'\n",
    "for col in df_ouvidoria_aneel.select_dtypes(include=['object']).columns:\n",
    "    df_ouvidoria_aneel[col] = df_ouvidoria_aneel[col].astype('category')\n"
   ]
  },
  {
   "cell_type": "code",
   "execution_count": null,
   "id": "f0408289",
   "metadata": {},
   "outputs": [],
   "source": [
    "# Salvando alteracoes de tipos por meio de pickle pois o pandas não salva as alterações de tipos em CSV\n",
    "df_ouvidoria_aneel.to_pickle('/workspaces/Project-Team-01-Samsung-Innovation-Campus-2025/data/df_ouvidoria_aneel_limpo.pkl')\n",
    "df_ouvidoria_aneel.to_csv('/workspaces/Project-Team-01-Samsung-Innovation-Campus-2025/data/df_ouvidoria_aneel_limpo.csv', index=False)"
   ]
  },
  {
   "cell_type": "code",
   "execution_count": null,
   "id": "7f39313d",
   "metadata": {},
   "outputs": [
    {
     "data": {
      "application/vnd.microsoft.datawrangler.viewer.v0+json": {
       "columns": [
        {
         "name": "index",
         "rawType": "int64",
         "type": "integer"
        },
        {
         "name": "DatGeracaoConjuntoDados",
         "rawType": "datetime64[ns]",
         "type": "datetime"
        },
        {
         "name": "SigUF",
         "rawType": "category",
         "type": "unknown"
        },
        {
         "name": "NomMunicipio",
         "rawType": "category",
         "type": "unknown"
        },
        {
         "name": "NomCategoria",
         "rawType": "category",
         "type": "unknown"
        },
        {
         "name": "NomSubCategoria",
         "rawType": "category",
         "type": "unknown"
        },
        {
         "name": "NomTipologia",
         "rawType": "category",
         "type": "unknown"
        },
        {
         "name": "NomDecisao",
         "rawType": "category",
         "type": "unknown"
        },
        {
         "name": "DscSituacao",
         "rawType": "category",
         "type": "unknown"
        },
        {
         "name": "DtCriacao",
         "rawType": "datetime64[ns]",
         "type": "datetime"
        },
        {
         "name": "NumQtdReclamacoesDia",
         "rawType": "float64",
         "type": "float"
        },
        {
         "name": "NomMunicipio,count,total_reclamacoes,media_reclamacoes,percentual",
         "rawType": "category",
         "type": "unknown"
        },
        {
         "name": "DatGeracaoConjuntoDados,SigUF,NomMunicipio,NomCategoria,NomSubCategoria,NomTipologia,NomDecisao,DscSituacao,DtCriacao,NumQtdReclamacoesDia,\"NomMunicipio,count,total_reclamacoes,media_reclamacoes,percentual\",\"DatGeracaoConjuntoDados,NumCPFCNPJAgente,SigUF,NomMunicipio,NomCategoria,NomSubCategoria,NomTipologia,NomDecisao,DscSituacao,DtCriacao,NumQtdReclamacoesDia,\"\"NomMunicipio,count,total_reclamacoes,media_reclamacoes,percentual\"\"\"",
         "rawType": "category",
         "type": "unknown"
        }
       ],
       "ref": "8f7c1fd7-863a-4db4-8b00-60817ef9c4c7",
       "rows": [
        [
         "0",
         "2025-09-25 00:00:00",
         "RO",
         "ALTA FLORESTA D'OESTE",
         "Informação",
         "Qualidade do Fornecimento",
         "Oscilação de Tensão",
         "Sem decisão",
         "Finalizada por Script",
         "2025-01-21 00:00:00",
         "1.0",
         null,
         null
        ],
        [
         "1",
         "2025-09-25 00:00:00",
         "RO",
         "ALTA FLORESTA D'OESTE",
         "Reclamações",
         "Cobranças",
         "Devol Valores",
         "Improcedente",
         "Encerrada",
         "2025-02-24 00:00:00",
         "4.0",
         null,
         null
        ],
        [
         "2",
         "2025-09-25 00:00:00",
         "RO",
         "ALTA FLORESTA D'OESTE",
         "Reclamações",
         "Qualidade do Fornecimento",
         "Oscilação de Tensão",
         "Sem decisão",
         "Novos Questionamentos à Concessionária",
         "2025-01-27 00:00:00",
         "1.0",
         null,
         null
        ],
        [
         "3",
         "2025-09-25 00:00:00",
         "RO",
         "ALTA FLORESTA D'OESTE",
         "Informação",
         "Faturamento",
         "Variação de Consumo",
         "Sem decisão",
         "Finalizada por Script",
         "2025-09-09 00:00:00",
         "1.0",
         null,
         null
        ],
        [
         "4",
         "2025-09-25 00:00:00",
         "RO",
         "ALTA FLORESTA D'OESTE",
         "Informação",
         "Serviços Técnicos",
         "Devol Antecipação Obras",
         "Sem decisão",
         "Encerrada",
         "2025-08-18 00:00:00",
         "1.0",
         null,
         null
        ]
       ],
       "shape": {
        "columns": 12,
        "rows": 5
       }
      },
      "text/html": [
       "<div>\n",
       "<style scoped>\n",
       "    .dataframe tbody tr th:only-of-type {\n",
       "        vertical-align: middle;\n",
       "    }\n",
       "\n",
       "    .dataframe tbody tr th {\n",
       "        vertical-align: top;\n",
       "    }\n",
       "\n",
       "    .dataframe thead th {\n",
       "        text-align: right;\n",
       "    }\n",
       "</style>\n",
       "<table border=\"1\" class=\"dataframe\">\n",
       "  <thead>\n",
       "    <tr style=\"text-align: right;\">\n",
       "      <th></th>\n",
       "      <th>DatGeracaoConjuntoDados</th>\n",
       "      <th>SigUF</th>\n",
       "      <th>NomMunicipio</th>\n",
       "      <th>NomCategoria</th>\n",
       "      <th>NomSubCategoria</th>\n",
       "      <th>NomTipologia</th>\n",
       "      <th>NomDecisao</th>\n",
       "      <th>DscSituacao</th>\n",
       "      <th>DtCriacao</th>\n",
       "      <th>NumQtdReclamacoesDia</th>\n",
       "      <th>NomMunicipio,count,total_reclamacoes,media_reclamacoes,percentual</th>\n",
       "      <th>DatGeracaoConjuntoDados,SigUF,NomMunicipio,NomCategoria,NomSubCategoria,NomTipologia,NomDecisao,DscSituacao,DtCriacao,NumQtdReclamacoesDia,\"NomMunicipio,count,total_reclamacoes,media_reclamacoes,percentual\",\"DatGeracaoConjuntoDados,NumCPFCNPJAgente,SigUF,NomMunicipio,NomCategoria,NomSubCategoria,NomTipologia,NomDecisao,DscSituacao,DtCriacao,NumQtdReclamacoesDia,\"\"NomMunicipio,count,total_reclamacoes,media_reclamacoes,percentual\"\"\"</th>\n",
       "    </tr>\n",
       "  </thead>\n",
       "  <tbody>\n",
       "    <tr>\n",
       "      <th>0</th>\n",
       "      <td>2025-09-25</td>\n",
       "      <td>RO</td>\n",
       "      <td>ALTA FLORESTA D'OESTE</td>\n",
       "      <td>Informação</td>\n",
       "      <td>Qualidade do Fornecimento</td>\n",
       "      <td>Oscilação de Tensão</td>\n",
       "      <td>Sem decisão</td>\n",
       "      <td>Finalizada por Script</td>\n",
       "      <td>2025-01-21</td>\n",
       "      <td>1.0</td>\n",
       "      <td>NaN</td>\n",
       "      <td>NaN</td>\n",
       "    </tr>\n",
       "    <tr>\n",
       "      <th>1</th>\n",
       "      <td>2025-09-25</td>\n",
       "      <td>RO</td>\n",
       "      <td>ALTA FLORESTA D'OESTE</td>\n",
       "      <td>Reclamações</td>\n",
       "      <td>Cobranças</td>\n",
       "      <td>Devol Valores</td>\n",
       "      <td>Improcedente</td>\n",
       "      <td>Encerrada</td>\n",
       "      <td>2025-02-24</td>\n",
       "      <td>4.0</td>\n",
       "      <td>NaN</td>\n",
       "      <td>NaN</td>\n",
       "    </tr>\n",
       "    <tr>\n",
       "      <th>2</th>\n",
       "      <td>2025-09-25</td>\n",
       "      <td>RO</td>\n",
       "      <td>ALTA FLORESTA D'OESTE</td>\n",
       "      <td>Reclamações</td>\n",
       "      <td>Qualidade do Fornecimento</td>\n",
       "      <td>Oscilação de Tensão</td>\n",
       "      <td>Sem decisão</td>\n",
       "      <td>Novos Questionamentos à Concessionária</td>\n",
       "      <td>2025-01-27</td>\n",
       "      <td>1.0</td>\n",
       "      <td>NaN</td>\n",
       "      <td>NaN</td>\n",
       "    </tr>\n",
       "    <tr>\n",
       "      <th>3</th>\n",
       "      <td>2025-09-25</td>\n",
       "      <td>RO</td>\n",
       "      <td>ALTA FLORESTA D'OESTE</td>\n",
       "      <td>Informação</td>\n",
       "      <td>Faturamento</td>\n",
       "      <td>Variação de Consumo</td>\n",
       "      <td>Sem decisão</td>\n",
       "      <td>Finalizada por Script</td>\n",
       "      <td>2025-09-09</td>\n",
       "      <td>1.0</td>\n",
       "      <td>NaN</td>\n",
       "      <td>NaN</td>\n",
       "    </tr>\n",
       "    <tr>\n",
       "      <th>4</th>\n",
       "      <td>2025-09-25</td>\n",
       "      <td>RO</td>\n",
       "      <td>ALTA FLORESTA D'OESTE</td>\n",
       "      <td>Informação</td>\n",
       "      <td>Serviços Técnicos</td>\n",
       "      <td>Devol Antecipação Obras</td>\n",
       "      <td>Sem decisão</td>\n",
       "      <td>Encerrada</td>\n",
       "      <td>2025-08-18</td>\n",
       "      <td>1.0</td>\n",
       "      <td>NaN</td>\n",
       "      <td>NaN</td>\n",
       "    </tr>\n",
       "  </tbody>\n",
       "</table>\n",
       "</div>"
      ],
      "text/plain": [
       "  DatGeracaoConjuntoDados SigUF           NomMunicipio NomCategoria  \\\n",
       "0              2025-09-25    RO  ALTA FLORESTA D'OESTE   Informação   \n",
       "1              2025-09-25    RO  ALTA FLORESTA D'OESTE  Reclamações   \n",
       "2              2025-09-25    RO  ALTA FLORESTA D'OESTE  Reclamações   \n",
       "3              2025-09-25    RO  ALTA FLORESTA D'OESTE   Informação   \n",
       "4              2025-09-25    RO  ALTA FLORESTA D'OESTE   Informação   \n",
       "\n",
       "             NomSubCategoria             NomTipologia    NomDecisao  \\\n",
       "0  Qualidade do Fornecimento      Oscilação de Tensão   Sem decisão   \n",
       "1                  Cobranças            Devol Valores  Improcedente   \n",
       "2  Qualidade do Fornecimento      Oscilação de Tensão   Sem decisão   \n",
       "3                Faturamento      Variação de Consumo   Sem decisão   \n",
       "4          Serviços Técnicos  Devol Antecipação Obras   Sem decisão   \n",
       "\n",
       "                              DscSituacao  DtCriacao  NumQtdReclamacoesDia  \\\n",
       "0                   Finalizada por Script 2025-01-21                   1.0   \n",
       "1                               Encerrada 2025-02-24                   4.0   \n",
       "2  Novos Questionamentos à Concessionária 2025-01-27                   1.0   \n",
       "3                   Finalizada por Script 2025-09-09                   1.0   \n",
       "4                               Encerrada 2025-08-18                   1.0   \n",
       "\n",
       "  NomMunicipio,count,total_reclamacoes,media_reclamacoes,percentual  \\\n",
       "0                                                NaN                  \n",
       "1                                                NaN                  \n",
       "2                                                NaN                  \n",
       "3                                                NaN                  \n",
       "4                                                NaN                  \n",
       "\n",
       "  DatGeracaoConjuntoDados,SigUF,NomMunicipio,NomCategoria,NomSubCategoria,NomTipologia,NomDecisao,DscSituacao,DtCriacao,NumQtdReclamacoesDia,\"NomMunicipio,count,total_reclamacoes,media_reclamacoes,percentual\",\"DatGeracaoConjuntoDados,NumCPFCNPJAgente,SigUF,NomMunicipio,NomCategoria,NomSubCategoria,NomTipologia,NomDecisao,DscSituacao,DtCriacao,NumQtdReclamacoesDia,\"\"NomMunicipio,count,total_reclamacoes,media_reclamacoes,percentual\"\"\"  \n",
       "0                                                NaN                                                                                                                                                                                                                                                                                                                                                                                                  \n",
       "1                                                NaN                                                                                                                                                                                                                                                                                                                                                                                                  \n",
       "2                                                NaN                                                                                                                                                                                                                                                                                                                                                                                                  \n",
       "3                                                NaN                                                                                                                                                                                                                                                                                                                                                                                                  \n",
       "4                                                NaN                                                                                                                                                                                                                                                                                                                                                                                                  "
      ]
     },
     "execution_count": 7,
     "metadata": {},
     "output_type": "execute_result"
    }
   ],
   "source": [
    "df_ouvidoria_aneel.head()"
   ]
  },
  {
   "cell_type": "code",
   "execution_count": 8,
   "id": "57a5656c",
   "metadata": {},
   "outputs": [],
   "source": [
    "\n",
    "df_ouvidoria_aneel.dropna(inplace=True)"
   ]
  },
  {
   "cell_type": "code",
   "execution_count": null,
   "id": "b5e42a59",
   "metadata": {},
   "outputs": [
    {
     "data": {
      "application/vnd.microsoft.datawrangler.viewer.v0+json": {
       "columns": [
        {
         "name": "index",
         "rawType": "object",
         "type": "string"
        },
        {
         "name": "0",
         "rawType": "int64",
         "type": "integer"
        }
       ],
       "ref": "35267d06-cafa-43fe-9e1f-7bf73edb2454",
       "rows": [
        [
         "DatGeracaoConjuntoDados",
         "0"
        ],
        [
         "SigUF",
         "0"
        ],
        [
         "NomMunicipio",
         "0"
        ],
        [
         "NomCategoria",
         "0"
        ],
        [
         "NomSubCategoria",
         "0"
        ],
        [
         "NomTipologia",
         "0"
        ],
        [
         "NomDecisao",
         "0"
        ],
        [
         "DscSituacao",
         "0"
        ],
        [
         "DtCriacao",
         "0"
        ],
        [
         "NumQtdReclamacoesDia",
         "0"
        ]
       ],
       "shape": {
        "columns": 1,
        "rows": 10
       }
      },
      "text/plain": [
       "DatGeracaoConjuntoDados    0\n",
       "SigUF                      0\n",
       "NomMunicipio               0\n",
       "NomCategoria               0\n",
       "NomSubCategoria            0\n",
       "NomTipologia               0\n",
       "NomDecisao                 0\n",
       "DscSituacao                0\n",
       "DtCriacao                  0\n",
       "NumQtdReclamacoesDia       0\n",
       "dtype: int64"
      ]
     },
     "execution_count": 20,
     "metadata": {},
     "output_type": "execute_result"
    }
   ],
   "source": [
    "df_ouvidoria_aneel.isna().sum()"
   ]
  },
  {
   "cell_type": "code",
   "execution_count": null,
   "id": "4b49879d",
   "metadata": {},
   "outputs": [],
   "source": [
    "df_ouvidoria_aneel.dropna(inplace=True)"
   ]
  },
  {
   "cell_type": "code",
   "execution_count": 9,
   "id": "6e1c8af7",
   "metadata": {},
   "outputs": [
    {
     "data": {
      "application/vnd.microsoft.datawrangler.viewer.v0+json": {
       "columns": [
        {
         "name": "index",
         "rawType": "object",
         "type": "string"
        },
        {
         "name": "0",
         "rawType": "object",
         "type": "unknown"
        }
       ],
       "ref": "85561bc9-55ba-4600-80f1-f8933da37989",
       "rows": [
        [
         "DatGeracaoConjuntoDados",
         "datetime64[ns]"
        ],
        [
         "SigUF",
         "category"
        ],
        [
         "NomMunicipio",
         "category"
        ],
        [
         "NomCategoria",
         "category"
        ],
        [
         "NomSubCategoria",
         "category"
        ],
        [
         "NomTipologia",
         "category"
        ],
        [
         "NomDecisao",
         "category"
        ],
        [
         "DscSituacao",
         "category"
        ],
        [
         "DtCriacao",
         "datetime64[ns]"
        ],
        [
         "NumQtdReclamacoesDia",
         "float64"
        ]
       ],
       "shape": {
        "columns": 1,
        "rows": 10
       }
      },
      "text/plain": [
       "DatGeracaoConjuntoDados    datetime64[ns]\n",
       "SigUF                            category\n",
       "NomMunicipio                     category\n",
       "NomCategoria                     category\n",
       "NomSubCategoria                  category\n",
       "NomTipologia                     category\n",
       "NomDecisao                       category\n",
       "DscSituacao                      category\n",
       "DtCriacao                  datetime64[ns]\n",
       "NumQtdReclamacoesDia              float64\n",
       "dtype: object"
      ]
     },
     "execution_count": 9,
     "metadata": {},
     "output_type": "execute_result"
    }
   ],
   "source": [
    "df_ouvidoria_aneel.dtypes"
   ]
  }
 ],
 "metadata": {
  "kernelspec": {
   "display_name": "Python 3",
   "language": "python",
   "name": "python3"
  },
  "language_info": {
   "codemirror_mode": {
    "name": "ipython",
    "version": 3
   },
   "file_extension": ".py",
   "mimetype": "text/x-python",
   "name": "python",
   "nbconvert_exporter": "python",
   "pygments_lexer": "ipython3",
   "version": "3.12.1"
  }
 },
 "nbformat": 4,
 "nbformat_minor": 5
}
